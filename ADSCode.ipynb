{
  "cells": [
    {
      "cell_type": "markdown",
      "id": "b9085372",
      "metadata": {},
      "source": [
        "# Data preprocessing & EDA"
      ]
    },
    {
      "cell_type": "markdown",
      "id": "aec6d480",
      "metadata": {
        "id": "aec6d480"
      },
      "source": [
        "## Train data(new radiator)"
      ]
    },
    {
      "cell_type": "code",
      "execution_count": null,
      "id": "4109fd51-8dfa-4ddc-aa75-7f8f46d1f63a",
      "metadata": {
        "colab": {
          "base_uri": "https://localhost:8080/",
          "height": 754
        },
        "id": "4109fd51-8dfa-4ddc-aa75-7f8f46d1f63a",
        "outputId": "107f93f6-5b1f-4ae8-fe0f-ff69729dfa3d",
        "tags": []
      },
      "outputs": [],
      "source": [
        "import pandas as pd\n",
        "import warnings\n",
        "warnings.filterwarnings('ignore')\n",
        "\n",
        "file_path = '/your_path/Data Sheet'\n",
        "\n",
        "excel_file = pd.ExcelFile(file_path)\n",
        "sheet_names = excel_file.sheet_names\n",
        "print(\"Sheet names:\", sheet_names)\n",
        "\n",
        "sheet_name = sheet_names[0]\n",
        "train = pd.read_excel(file_path, sheet_name=sheet_name)\n",
        "train"
      ]
    },
    {
      "cell_type": "markdown",
      "id": "7e5f12f8",
      "metadata": {
        "id": "7e5f12f8"
      },
      "source": [
        "### Drop those colums we are not using"
      ]
    },
    {
      "cell_type": "code",
      "execution_count": 84,
      "id": "a3898f1a-ed37-490a-94ee-43d9359b2b89",
      "metadata": {
        "id": "a3898f1a-ed37-490a-94ee-43d9359b2b89",
        "tags": []
      },
      "outputs": [],
      "source": [
        "\n",
        "columns_to_drop = [\"Product ID\", \"Name\", \"Family\", \"Material\"]\n",
        "train = train.drop(columns=columns_to_drop)"
      ]
    },
    {
      "cell_type": "code",
      "execution_count": null,
      "id": "77e55009-48ee-449e-94fa-79c20efe0a95",
      "metadata": {
        "colab": {
          "base_uri": "https://localhost:8080/"
        },
        "id": "77e55009-48ee-449e-94fa-79c20efe0a95",
        "outputId": "5e2346f4-34d1-446a-e7fd-908e4a4159ce",
        "tags": []
      },
      "outputs": [],
      "source": [
        "print(train.dtypes)"
      ]
    },
    {
      "cell_type": "code",
      "execution_count": null,
      "id": "6d5cce81-5c04-4c72-b95d-ed9e7eb61a0d",
      "metadata": {
        "colab": {
          "base_uri": "https://localhost:8080/",
          "height": 607
        },
        "id": "6d5cce81-5c04-4c72-b95d-ed9e7eb61a0d",
        "outputId": "9733d1c2-7e4d-406b-99dd-3746232c55cb"
      },
      "outputs": [],
      "source": [
        "import matplotlib.pyplot as plt\n",
        "\n",
        "# number of unique values in each column\n",
        "uniqueValues = train.nunique()\n",
        "\n",
        "plt.figure(figsize=(10, 6))\n",
        "ax = uniqueValues.plot(kind='bar', color='skyblue')\n",
        "for patch in ax.patches: # count on top of each bar\n",
        "    height= patch.get_height()\n",
        "    width=patch.get_width()\n",
        "    ax.text(patch.get_x() + width / 2,height,\n",
        "            f'{int(patch.get_height())}', ha='center', va='bottom')\n",
        "\n",
        "plt.title('Number of unique values in each column of New Radiators')\n",
        "plt.xlabel('Columns')\n",
        "plt.ylabel('Unique value count')\n",
        "plt.xticks(rotation=90)\n",
        "plt.tight_layout()\n",
        "plt.show()"
      ]
    },
    {
      "cell_type": "code",
      "execution_count": null,
      "id": "162a2570-0b17-42e6-a5d0-754f2aa734f1",
      "metadata": {
        "colab": {
          "base_uri": "https://localhost:8080/"
        },
        "id": "162a2570-0b17-42e6-a5d0-754f2aa734f1",
        "outputId": "4b67badc-cacf-4265-9ca6-376d276fed05"
      },
      "outputs": [],
      "source": [
        "#unique values in categorical columsn for new radiators\n",
        "print(\"Unique values in categorical columns:\")\n",
        "for col in train.select_dtypes(include=['object']).columns:\n",
        "    print(train[col].value_counts())\n",
        "    print('\\n')"
      ]
    },
    {
      "cell_type": "code",
      "execution_count": null,
      "id": "f2af1231-9497-4a2f-9282-991f283161c4",
      "metadata": {
        "colab": {
          "base_uri": "https://localhost:8080/",
          "height": 509
        },
        "id": "f2af1231-9497-4a2f-9282-991f283161c4",
        "outputId": "f2c93bd7-5b1a-4e00-ce35-7aea32c344f1"
      },
      "outputs": [],
      "source": [
        "# value counts for 'Nipple size'\n",
        "import seaborn as sns\n",
        "plt.figure(figsize=(6, 5))\n",
        "sns.countplot(x=train['Nipple size'], order=train['Nipple size'].value_counts().index)\n",
        "plt.title(\"Value counts of Nipple Size (New Radiators)\")\n",
        "plt.xlabel('Nipple size')\n",
        "plt.ylabel('Frequency')\n",
        "plt.xticks(rotation=45)\n",
        "plt.show()"
      ]
    },
    {
      "cell_type": "markdown",
      "id": "cc16e008",
      "metadata": {
        "id": "cc16e008"
      },
      "source": [
        "### Missing data"
      ]
    },
    {
      "cell_type": "code",
      "execution_count": null,
      "id": "db5de673-e7ad-48ec-a148-41b723736a75",
      "metadata": {
        "colab": {
          "base_uri": "https://localhost:8080/",
          "height": 603
        },
        "id": "db5de673-e7ad-48ec-a148-41b723736a75",
        "outputId": "121c3948-1797-4cab-87dc-539fa0e4cded"
      },
      "outputs": [],
      "source": [
        "missing_values = train.isnull().sum()\n",
        "plt.figure(figsize=(5, 5))\n",
        "missing_values.plot(kind='bar')\n",
        "plt.title('Number of Missing Values in Each Column of the train DataFrame')\n",
        "plt.xlabel('Columns')\n",
        "plt.ylabel('Number of Missing Values in New Radiators')\n",
        "plt.xticks(rotation=90)\n",
        "plt.show()"
      ]
    },
    {
      "cell_type": "code",
      "execution_count": 90,
      "id": "b54224c2-054c-47d9-a882-48b1fc61c24f",
      "metadata": {
        "id": "b54224c2-054c-47d9-a882-48b1fc61c24f",
        "tags": []
      },
      "outputs": [],
      "source": [
        "# Missing data\n",
        "train['Mid section Depth'] = train.apply(lambda row: row['Leg section depth'] if row['Mid section Depth'] == 'Missing data' else row['Mid section Depth'], axis=1)\n",
        "train['Surface area'] = train['Surface area'].replace('Missing data', 0.29)"
      ]
    },
    {
      "cell_type": "markdown",
      "id": "b1905136",
      "metadata": {
        "id": "b1905136"
      },
      "source": [
        "### Convert every column into float"
      ]
    },
    {
      "cell_type": "code",
      "execution_count": 91,
      "id": "550d9113-6c39-4369-a6a3-91c38655bd70",
      "metadata": {
        "id": "550d9113-6c39-4369-a6a3-91c38655bd70",
        "tags": []
      },
      "outputs": [],
      "source": [
        "# convert to float\n",
        "train['Surface area'] = train['Surface area'].astype(float)\n",
        "train['Nipple size'] = train['Nipple size'].str.replace('\"', '').astype(float)"
      ]
    },
    {
      "cell_type": "code",
      "execution_count": null,
      "id": "810a2f62-c049-4bb2-b245-4f26bc064b43",
      "metadata": {
        "colab": {
          "base_uri": "https://localhost:8080/"
        },
        "id": "810a2f62-c049-4bb2-b245-4f26bc064b43",
        "outputId": "013f1fc9-9f26-4778-faed-eb31c2bae725",
        "tags": []
      },
      "outputs": [],
      "source": [
        "print(train.dtypes)"
      ]
    },
    {
      "cell_type": "code",
      "execution_count": 92,
      "id": "e6afb461-1e02-4716-b3f7-af7353021033",
      "metadata": {
        "id": "e6afb461-1e02-4716-b3f7-af7353021033"
      },
      "outputs": [],
      "source": []
    },
    {
      "cell_type": "markdown",
      "id": "6d63bc17",
      "metadata": {
        "id": "6d63bc17"
      },
      "source": [
        "### Convert mm to dm to ensures consistency and prevents unit mismatches"
      ]
    },
    {
      "cell_type": "code",
      "execution_count": 93,
      "id": "1b7349fa-1da4-43b2-be59-6c5199e18743",
      "metadata": {
        "id": "1b7349fa-1da4-43b2-be59-6c5199e18743",
        "tags": []
      },
      "outputs": [],
      "source": [
        "# convert to decimeters\n",
        "train['Section length'] = train['Section length'] / 100\n",
        "train['Leg section depth'] = train['Leg section depth'] / 100\n",
        "train['Mid section Depth'] = train['Mid section Depth'] / 100\n",
        "train['Leg section height'] = train['Leg section height'] / 100\n",
        "train['Mid section height'] = train['Mid section height'] / 100\n",
        "train['Nipple size'] = train['Nipple size'] * 25.4 / 100"
      ]
    },
    {
      "cell_type": "code",
      "execution_count": null,
      "id": "d01a4c4f-5f42-4551-8ce2-dbaf332435dd",
      "metadata": {
        "colab": {
          "base_uri": "https://localhost:8080/",
          "height": 223
        },
        "id": "d01a4c4f-5f42-4551-8ce2-dbaf332435dd",
        "outputId": "ca56cfd2-2bf7-4d75-baca-fd0b21c1ff1e",
        "tags": []
      },
      "outputs": [],
      "source": [
        "train.head()"
      ]
    },
    {
      "cell_type": "code",
      "execution_count": null,
      "id": "n4-u7fUk1EWF",
      "metadata": {
        "colab": {
          "base_uri": "https://localhost:8080/",
          "height": 661
        },
        "id": "n4-u7fUk1EWF",
        "outputId": "b0d03476-f15c-499f-8f11-b5485fa3741c"
      },
      "outputs": [],
      "source": [
        "#heatmap shwoing correaltion\n",
        "plt.figure(figsize=(10, 6))\n",
        "sns.heatmap(train.corr(), annot=True, cmap='coolwarm', fmt=\".2f\")\n",
        "plt.title(\"Correlation Matrix for New Radiators\")\n",
        "plt.show()"
      ]
    },
    {
      "cell_type": "code",
      "execution_count": null,
      "id": "TROg84so1F4r",
      "metadata": {
        "colab": {
          "base_uri": "https://localhost:8080/",
          "height": 1000
        },
        "id": "TROg84so1F4r",
        "outputId": "8f2c8a79-205e-4353-c901-70aa88de3d95"
      },
      "outputs": [],
      "source": [
        "#boxplots\n",
        "\n",
        "#we make three sets of boxplots since the distributions are significantly different\n",
        "#this leads to better underatnding and visaulisations\n",
        "\n",
        "colList1 = ['Leg section depth', 'Mid section Depth', 'Output ΔT50']\n",
        "\n",
        "# Plot boxplots for 'Leg section depth', 'Mid section Depth', 'Output ΔT50'\n",
        "plt.figure(figsize=(6, 6))\n",
        "sns.boxplot(data=train[colList1], palette='coolwarm')\n",
        "plt.title('Boxplots of Leg Section Depth, Mid Section Depth, and OutputΔ50')\n",
        "plt.xlabel('Columns')\n",
        "plt.ylabel('Value')\n",
        "plt.xticks(rotation=45)\n",
        "plt.show()\n",
        "\n",
        "colList2 = ['Leg section height', 'Mid section height', 'Interaxis distance']\n",
        "#boxplots for 'Leg section height', 'Mid section height', 'Interaxis distance'\n",
        "plt.figure(figsize=(6, 6))\n",
        "sns.boxplot(data=train[colList2], palette='coolwarm')\n",
        "plt.title('Boxplots of Leg Section Height, Mid Section Height, and Inter Axis Distance')\n",
        "plt.xlabel('Columns')\n",
        "plt.ylabel('Value')\n",
        "plt.xticks(rotation=45)\n",
        "plt.show()\n",
        "\n",
        "#boxplots for all other numeric columns\n",
        "plt.figure(figsize=(12, 8))\n",
        "toDrop=colList2 + colList1\n",
        "train.drop(columns=toDrop).boxplot()\n",
        "plt.suptitle(\"Boxplots of other numeric columns\")\n",
        "plt.xticks(rotation=45)\n",
        "plt.tight_layout()\n",
        "plt.show()"
      ]
    },
    {
      "cell_type": "code",
      "execution_count": null,
      "id": "f78ba908-3421-4ce5-ac88-bc7c645b0467",
      "metadata": {
        "colab": {
          "base_uri": "https://localhost:8080/",
          "height": 1000
        },
        "id": "f78ba908-3421-4ce5-ac88-bc7c645b0467",
        "outputId": "424e50eb-45bd-4568-cd57-c10e010e12c3"
      },
      "outputs": [],
      "source": [
        "# pairplot for numeric columsn in train\n",
        "import seaborn as sns\n",
        "import numpy as np\n",
        "numericCols = train.select_dtypes(include=[np.number])\n",
        "sns.pairplot(numericCols)\n",
        "plt.suptitle('Pair Plots for All Numeric Columns in Tarin DataFrame')\n",
        "plt.show()"
      ]
    },
    {
      "cell_type": "code",
      "execution_count": null,
      "id": "78bfbe18-de36-4a70-b107-61fc1d2095d2",
      "metadata": {
        "colab": {
          "base_uri": "https://localhost:8080/",
          "height": 1000
        },
        "id": "78bfbe18-de36-4a70-b107-61fc1d2095d2",
        "outputId": "811066cf-79e3-42ff-dbd4-35c4a0138cc6"
      },
      "outputs": [],
      "source": [
        "numplots = len(numericCols.columns)\n",
        "cols = 3\n",
        "rows=np.ceil(numplots / cols)\n",
        "rows = int(rows)\n",
        "fig, axes = plt.subplots(rows, cols, figsize=(15, 5 * rows))  # Create a grid\n",
        "axes = axes.flatten()\n",
        "\n",
        "for i, col in enumerate(numericCols.columns):\n",
        "    sns.histplot(numericCols[col], kde=True, ax=axes[i], bins=20)\n",
        "    axes[i].set_title(f'Histogram and KDE of {col}')\n",
        "    axes[i].set_xlabel(col)\n",
        "    axes[i].set_ylabel('Frequency')\n",
        "\n",
        "for j in range(i + 1, len(axes)):  # hiding unused subplots\n",
        "    axes[j].axis('off')\n",
        "\n",
        "plt.tight_layout()\n",
        "plt.suptitle('Histograms and KDE for Numeric Columns in New Radiators')\n",
        "plt.show()"
      ]
    },
    {
      "cell_type": "code",
      "execution_count": null,
      "id": "bd603da0-a2d8-4ab2-a6bf-0427bda7c9cb",
      "metadata": {
        "colab": {
          "base_uri": "https://localhost:8080/"
        },
        "id": "bd603da0-a2d8-4ab2-a6bf-0427bda7c9cb",
        "outputId": "9568dd7b-7cea-4cd5-a061-ad7ed9665270"
      },
      "outputs": [],
      "source": [
        "medianValues = numericCols.median()\n",
        "modeValues = numericCols.mode().iloc[0]  # we take first mode if there are multiple\n",
        "print(\"Median Values for Each Column:\")\n",
        "print(medianValues)\n",
        "print('\\n')\n",
        "print(\"Mode Values for Each Column:\")\n",
        "print(modeValues)"
      ]
    },
    {
      "cell_type": "code",
      "execution_count": null,
      "id": "c18cba7d-342b-4c31-a214-21b3bbb22a57",
      "metadata": {
        "colab": {
          "base_uri": "https://localhost:8080/",
          "height": 607
        },
        "id": "c18cba7d-342b-4c31-a214-21b3bbb22a57",
        "outputId": "fde48364-de59-44ea-dd5c-9619bf4a40de"
      },
      "outputs": [],
      "source": [
        "meanValues = numericCols.mean()  #calculating means\n",
        "\n",
        "plt.figure(figsize=(10, 6))\n",
        "ax = meanValues.plot(kind='bar', color='skyblue')\n",
        "\n",
        "for patch in ax.patches: #value labels on top of each bar\n",
        "    height = patch.get_height()\n",
        "    width=patch.get_width()\n",
        "    ax.text(patch.get_x() + width/ 2, height + 0.05, f'{height:.2f}',\n",
        "            ha='center', va='bottom')\n",
        "plt.title('Mean of numeric columns in New Radiators')\n",
        "plt.xlabel('Columns')\n",
        "plt.ylabel('Mean Value')\n",
        "plt.xticks(rotation=45)\n",
        "plt.tight_layout()\n",
        "plt.show()"
      ]
    },
    {
      "cell_type": "markdown",
      "id": "3f7a532f-93c1-426c-9cd9-c1077895e97b",
      "metadata": {
        "id": "3f7a532f-93c1-426c-9cd9-c1077895e97b"
      },
      "source": [
        "## Test data (old radiator)"
      ]
    },
    {
      "cell_type": "code",
      "execution_count": null,
      "id": "1591ab87",
      "metadata": {
        "colab": {
          "base_uri": "https://localhost:8080/",
          "height": 1000
        },
        "id": "1591ab87",
        "outputId": "f451c9f7-3e1e-4ad4-ad6e-6453a1b1b2be",
        "tags": []
      },
      "outputs": [],
      "source": [
        "import pandas as pd\n",
        "\n",
        "file_path = 'Manchester University Data Sheet - Mar 2025.xlsx'\n",
        "\n",
        "excel_file = pd.ExcelFile(file_path)\n",
        "sheet_names = excel_file.sheet_names\n",
        "print(\"Sheet names:\", sheet_names)\n",
        "\n",
        "sheet_name = sheet_names[1]\n",
        "test = pd.read_excel(file_path, sheet_name=sheet_name)\n",
        "test"
      ]
    },
    {
      "cell_type": "code",
      "execution_count": null,
      "id": "-cFd_ORB1fnz",
      "metadata": {
        "colab": {
          "base_uri": "https://localhost:8080/",
          "height": 300
        },
        "id": "-cFd_ORB1fnz",
        "outputId": "9dc84609-fd53-4cbf-c0f2-9d6fd190633c"
      },
      "outputs": [],
      "source": [
        "test.describe()"
      ]
    },
    {
      "cell_type": "code",
      "execution_count": null,
      "id": "xGCGibhJ1fSN",
      "metadata": {
        "colab": {
          "base_uri": "https://localhost:8080/"
        },
        "id": "xGCGibhJ1fSN",
        "outputId": "4054d22f-4f6d-4d72-e2c4-7b8b82cf7e8b"
      },
      "outputs": [],
      "source": [
        "test.info()"
      ]
    },
    {
      "cell_type": "code",
      "execution_count": null,
      "id": "-CQyY9_e1fE9",
      "metadata": {
        "colab": {
          "base_uri": "https://localhost:8080/",
          "height": 522
        },
        "id": "-CQyY9_e1fE9",
        "outputId": "ab0c028a-13eb-4efc-ee1d-19e7b6ea3981"
      },
      "outputs": [],
      "source": [
        "\n",
        "# plot fro value counts of the 'Data confidence' column\n",
        "dataConfidenceCounts = test['Data confidence'].value_counts()\n",
        "\n",
        "# Plot the value counts\n",
        "plt.figure(figsize=(6, 5))\n",
        "dataConfidenceCounts.plot(kind='bar')\n",
        "\n",
        "for i, value in enumerate(dataConfidenceCounts):\n",
        "    plt.text(i, value + 0.01, str(value), ha='center', va='bottom')\n",
        "\n",
        "plt.title('Value Counts of Data Confidence in Old Radiators')\n",
        "plt.xlabel('Data Confidence Levels')\n",
        "plt.ylabel('Count')\n",
        "plt.xticks(rotation=45)\n",
        "plt.show()\n"
      ]
    },
    {
      "cell_type": "code",
      "execution_count": 105,
      "id": "ffe390ff",
      "metadata": {
        "id": "ffe390ff",
        "tags": []
      },
      "outputs": [],
      "source": [
        "# Select only the specified columns\n",
        "columns_to_keep = [\n",
        "    \"Section length\", \"Leg section depth\", \"Mid section depth\", \"Leg section height\", \"Mid section height\",\n",
        "    \"Leg section weight\", \"Mid section weight\",\"Heating surface\", \"Internal volume L\", \"Interaxis distance\",\n",
        "    \"Nipple size - Top\", \"Nipple size - Bottom\", \"Output ΔT50\"\n",
        "]\n",
        "test = test[columns_to_keep]"
      ]
    },
    {
      "cell_type": "code",
      "execution_count": null,
      "id": "6b03b3e6-5eb2-4a81-906f-544b9a5a51cf",
      "metadata": {
        "colab": {
          "base_uri": "https://localhost:8080/"
        },
        "id": "6b03b3e6-5eb2-4a81-906f-544b9a5a51cf",
        "outputId": "2b156295-4bc9-47ef-999c-95522cd3ae8b",
        "tags": []
      },
      "outputs": [],
      "source": [
        "print(test.dtypes)"
      ]
    },
    {
      "cell_type": "code",
      "execution_count": null,
      "id": "e753bf4f-2ac7-4d7d-8412-b5364566623b",
      "metadata": {
        "colab": {
          "base_uri": "https://localhost:8080/",
          "height": 607
        },
        "id": "e753bf4f-2ac7-4d7d-8412-b5364566623b",
        "outputId": "c31d1b42-6556-402e-8b4b-15a220099548"
      },
      "outputs": [],
      "source": [
        "# number of unique values in each column\n",
        "uniqueValues = test.nunique()\n",
        "\n",
        "plt.figure(figsize=(10, 6))\n",
        "ax = uniqueValues.plot(kind='bar', color='skyblue')\n",
        "for patch in ax.patches: # count on top of each bar\n",
        "    height= patch.get_height()\n",
        "    width=patch.get_width()\n",
        "    ax.text(patch.get_x() + width / 2,height,\n",
        "            f'{int(patch.get_height())}', ha='center', va='bottom')\n",
        "\n",
        "plt.title('Number of unique values in each column of Old Radiators')\n",
        "plt.xlabel('Columns')\n",
        "plt.ylabel('Unique value count')\n",
        "plt.xticks(rotation=90)\n",
        "plt.tight_layout()\n",
        "plt.show()"
      ]
    },
    {
      "cell_type": "code",
      "execution_count": null,
      "id": "0f34d49e-2df6-4c5c-a042-6578f9565814",
      "metadata": {
        "colab": {
          "base_uri": "https://localhost:8080/"
        },
        "id": "0f34d49e-2df6-4c5c-a042-6578f9565814",
        "outputId": "3cce2433-3f6a-4264-de59-a343dbd5030a"
      },
      "outputs": [],
      "source": [
        "print(test.dtypes)"
      ]
    },
    {
      "cell_type": "code",
      "execution_count": null,
      "id": "a1352012-965d-4fed-93be-ddacba8c8d1d",
      "metadata": {
        "colab": {
          "base_uri": "https://localhost:8080/"
        },
        "id": "a1352012-965d-4fed-93be-ddacba8c8d1d",
        "outputId": "acf167da-fc1c-4d60-c5f0-9e77c611c81a"
      },
      "outputs": [],
      "source": [
        "#this shows how many heating surface values we have\n",
        "# value counts of the 'Heating surface' column\n",
        "\n",
        "heatingSurfaceCounts = test['Heating surface'].value_counts()\n",
        "notAvailableCount = heatingSurfaceCounts.get('Not available')\n",
        "print(notAvailableCount)"
      ]
    },
    {
      "cell_type": "code",
      "execution_count": null,
      "id": "01626213-b737-48b9-a57e-5325d816b378",
      "metadata": {
        "colab": {
          "base_uri": "https://localhost:8080/"
        },
        "id": "01626213-b737-48b9-a57e-5325d816b378",
        "outputId": "98843989-f060-445d-fbfc-74dd907e577f"
      },
      "outputs": [],
      "source": [
        "df = test.drop(['Heating surface', 'Internal volume L'], axis=1, errors='ignore') #these 2 have a lot unique categorical values\n",
        "print(\"Unique values in categorical columns:\")\n",
        "for col in df.select_dtypes(include=['object']).columns:\n",
        "    print(df[col].value_counts())\n",
        "    print('\\n')"
      ]
    },
    {
      "cell_type": "markdown",
      "id": "b9a949b0-c2da-40af-a238-b8499d1e0c48",
      "metadata": {
        "id": "b9a949b0-c2da-40af-a238-b8499d1e0c48"
      },
      "source": [
        "### Missing data except Heating Surface and Internal Volume L"
      ]
    },
    {
      "cell_type": "code",
      "execution_count": null,
      "id": "654e8068-128d-4c8f-ba85-b35729aaedf5",
      "metadata": {
        "colab": {
          "base_uri": "https://localhost:8080/",
          "height": 613
        },
        "id": "654e8068-128d-4c8f-ba85-b35729aaedf5",
        "outputId": "7363685e-1cdf-46c4-ad3c-b787c6d02229"
      },
      "outputs": [],
      "source": [
        "missingValues = test.isnull().sum()\n",
        "plt.figure(figsize=(5, 5))\n",
        "ax = missingValues.plot(kind='bar')\n",
        "\n",
        "for i, value in enumerate(missingValues): #label of count on top\n",
        "    ax.text(i, value + 0.01, str(value), ha='center', va='bottom')\n",
        "\n",
        "plt.title('Number of missing values in each column of the Old Radiators')\n",
        "plt.xlabel('Columns')\n",
        "plt.ylabel('Number of Missing Values')\n",
        "plt.xticks(rotation=90)\n",
        "plt.show()"
      ]
    },
    {
      "cell_type": "markdown",
      "id": "43dbd376-fd54-4fc3-9a56-5d3afe86b2ed",
      "metadata": {
        "id": "43dbd376-fd54-4fc3-9a56-5d3afe86b2ed"
      },
      "source": [
        "### Rename the columns indentical to train's"
      ]
    },
    {
      "cell_type": "code",
      "execution_count": null,
      "id": "c028c5d5-32a7-43f0-8fd0-ad2ed54a99b9",
      "metadata": {
        "colab": {
          "base_uri": "https://localhost:8080/"
        },
        "id": "c028c5d5-32a7-43f0-8fd0-ad2ed54a99b9",
        "outputId": "1b2957bc-23e5-4fd2-d4ce-3ce6a63fc87f",
        "tags": []
      },
      "outputs": [],
      "source": [
        "# Rename columns\n",
        "test.rename(columns={'Heating surface': 'Surface area', 'Internal volume L': 'Internal volume'}, inplace=True)\n",
        "\n",
        "# Print to verify changes\n",
        "print(test.columns)"
      ]
    },
    {
      "cell_type": "code",
      "execution_count": null,
      "id": "1de6f05c-db74-4f62-8af2-061e9b5f352d",
      "metadata": {
        "colab": {
          "base_uri": "https://localhost:8080/"
        },
        "id": "1de6f05c-db74-4f62-8af2-061e9b5f352d",
        "outputId": "133c02ab-f106-41e6-df51-e4e05fbf1d1c"
      },
      "outputs": [],
      "source": [
        "# Rename the column in test DataFrame\n",
        "test.rename(columns={'Mid section depth': 'Mid section Depth'}, inplace=True)\n",
        "\n",
        "print(\" Column 'Mid section depth' renamed to 'Mid section Depth' in test data.\")"
      ]
    },
    {
      "cell_type": "code",
      "execution_count": 114,
      "id": "69c08ab9-64ea-461b-ae4a-ef907fbdea48",
      "metadata": {
        "id": "69c08ab9-64ea-461b-ae4a-ef907fbdea48",
        "tags": []
      },
      "outputs": [],
      "source": [
        "test['Interaxis distance']=test['Interaxis distance'].fillna(test['Interaxis distance'].median())"
      ]
    },
    {
      "cell_type": "markdown",
      "id": "c4612bef-9f4b-4b76-b8b5-82d1f1b9ce23",
      "metadata": {
        "id": "c4612bef-9f4b-4b76-b8b5-82d1f1b9ce23"
      },
      "source": [
        "### Make every columns into float"
      ]
    },
    {
      "cell_type": "code",
      "execution_count": 115,
      "id": "385ab212-8caf-415c-85c7-aea99b89096f",
      "metadata": {
        "id": "385ab212-8caf-415c-85c7-aea99b89096f",
        "tags": []
      },
      "outputs": [],
      "source": [
        "# convert to float\n",
        "test['Nipple size - Top'] = test['Nipple size - Top'].apply(lambda x: float(x.replace('\"', '')) if x != 0 else x)\n",
        "test['Nipple size - Bottom'] = test['Nipple size - Bottom'].apply(lambda x: float(x.replace('\"', '')) if x != 0 else x)"
      ]
    },
    {
      "cell_type": "markdown",
      "id": "80e8860c-3dd0-4d2d-a826-56746cce5c69",
      "metadata": {
        "id": "80e8860c-3dd0-4d2d-a826-56746cce5c69"
      },
      "source": [
        "### Make the Nipple size criteria identical with the training set"
      ]
    },
    {
      "cell_type": "code",
      "execution_count": 116,
      "id": "c139dc5e-4e6c-4549-bd6a-bd75e303d09a",
      "metadata": {
        "id": "c139dc5e-4e6c-4549-bd6a-bd75e303d09a",
        "tags": []
      },
      "outputs": [],
      "source": [
        "test['Nipple size']=test['Nipple size - Bottom']\n",
        "test=test.drop(columns=['Nipple size - Top','Nipple size - Bottom'])"
      ]
    },
    {
      "cell_type": "code",
      "execution_count": null,
      "id": "e37d7543-c6fd-4ba1-9f85-17a0639b8b3b",
      "metadata": {
        "colab": {
          "base_uri": "https://localhost:8080/",
          "height": 223
        },
        "id": "e37d7543-c6fd-4ba1-9f85-17a0639b8b3b",
        "outputId": "df55b91a-2000-463a-881f-d219747aaf07",
        "tags": []
      },
      "outputs": [],
      "source": [
        "test.head()"
      ]
    },
    {
      "cell_type": "markdown",
      "id": "84572112-d2b6-47e9-bdb5-fbcf9ccce9fc",
      "metadata": {
        "id": "84572112-d2b6-47e9-bdb5-fbcf9ccce9fc"
      },
      "source": [
        "### Missing data (Heating Surface and Internal volume)"
      ]
    },
    {
      "cell_type": "code",
      "execution_count": null,
      "id": "d8069c69-1734-426c-abad-7ef4082594db",
      "metadata": {
        "colab": {
          "base_uri": "https://localhost:8080/"
        },
        "id": "d8069c69-1734-426c-abad-7ef4082594db",
        "outputId": "1b48cfbd-de55-492d-b1b5-3cf2a5127074",
        "tags": []
      },
      "outputs": [],
      "source": [
        "import pandas as pd\n",
        "from sklearn.linear_model import LinearRegression\n",
        "from sklearn.impute import SimpleImputer\n",
        "import numpy as np\n",
        "\n",
        "# Target variables\n",
        "target_surface = 'Surface area'\n",
        "target_volume = 'Internal volume'\n",
        "\n",
        "# Features for modeling\n",
        "features = ['Section length', 'Leg section depth', 'Mid section Depth', 'Leg section height',\n",
        "            'Mid section height', 'Leg section weight', 'Mid section weight']\n",
        "\n",
        "# Replace 'Not available' with NaN\n",
        "test.replace('Not available', np.nan, inplace=True)\n",
        "\n",
        "\n",
        "# Train model for predicting 'Heating surface'\n",
        "test_surface_known = test.dropna(subset=features + [target_surface])\n",
        "X_surface_known = test_surface_known[features]\n",
        "y_surface_known = test_surface_known[target_surface]\n",
        "\n",
        "imputer_surface = SimpleImputer(strategy=\"mean\")\n",
        "X_surface_known_imputed = imputer_surface.fit_transform(X_surface_known)\n",
        "\n",
        "model_surface = LinearRegression()\n",
        "model_surface.fit(X_surface_known_imputed, y_surface_known)\n",
        "\n",
        "# Train model for predicting 'Internal volume L'\n",
        "test_volume_known = test.dropna(subset=features + [target_volume])\n",
        "X_volume_known = test_volume_known[features]\n",
        "y_volume_known = test_volume_known[target_volume]\n",
        "\n",
        "imputer_volume = SimpleImputer(strategy=\"mean\")\n",
        "X_volume_known_imputed = imputer_volume.fit_transform(X_volume_known)\n",
        "\n",
        "model_volume = LinearRegression()\n",
        "model_volume.fit(X_volume_known_imputed, y_volume_known)\n",
        "\n",
        "# Predict missing values for 'Heating surface'\n",
        "test_surface_missing = test[test[target_surface].isna()]\n",
        "if not test_surface_missing.empty:\n",
        "    X_surface_missing = imputer_surface.transform(test_surface_missing[features])\n",
        "    test.loc[test_surface_missing.index, target_surface] = model_surface.predict(X_surface_missing)\n",
        "\n",
        "# Predict missing values for 'Internal volume L'\n",
        "test_volume_missing = test[test[target_volume].isna()]\n",
        "if not test_volume_missing.empty:\n",
        "    X_volume_missing = imputer_volume.transform(test_volume_missing[features])\n",
        "    test.loc[test_volume_missing.index, target_volume] = model_volume.predict(X_volume_missing)\n",
        "\n",
        "# Output message after processing\n",
        "print(\"Linear Regression models trained and missing values filled.\")"
      ]
    },
    {
      "cell_type": "markdown",
      "id": "55247873-1e1a-429e-8fcd-88c5fbaa9bf7",
      "metadata": {
        "id": "55247873-1e1a-429e-8fcd-88c5fbaa9bf7"
      },
      "source": [
        "### Convert mm to dm to ensures consistency and prevents unit mismatches"
      ]
    },
    {
      "cell_type": "code",
      "execution_count": 119,
      "id": "fa70de4e-29e5-4ec8-ba6a-c6a7f1be26a4",
      "metadata": {
        "id": "fa70de4e-29e5-4ec8-ba6a-c6a7f1be26a4",
        "tags": []
      },
      "outputs": [],
      "source": [
        "test['Leg section depth'] = test['Leg section depth'] / 100\n",
        "test['Mid section Depth'] = test['Mid section Depth'] / 100\n",
        "test['Leg section height'] = test['Leg section height'] / 100\n",
        "test['Mid section height'] = test['Mid section height'] / 100\n",
        "test['Nipple size'] = test['Nipple size'] * 25.4 / 100"
      ]
    },
    {
      "cell_type": "code",
      "execution_count": 119,
      "id": "ETEJEXpj2Oal",
      "metadata": {
        "id": "ETEJEXpj2Oal"
      },
      "outputs": [],
      "source": []
    },
    {
      "cell_type": "code",
      "execution_count": null,
      "id": "86277de1-c5e2-4ad9-af92-f30950cf1d70",
      "metadata": {
        "colab": {
          "base_uri": "https://localhost:8080/",
          "height": 223
        },
        "id": "86277de1-c5e2-4ad9-af92-f30950cf1d70",
        "outputId": "e50c67b9-5ec8-42f1-c18c-eca5115e6eb2",
        "tags": []
      },
      "outputs": [],
      "source": [
        "test.head()"
      ]
    },
    {
      "cell_type": "code",
      "execution_count": null,
      "id": "0jacxlgg2PhJ",
      "metadata": {
        "colab": {
          "base_uri": "https://localhost:8080/",
          "height": 661
        },
        "id": "0jacxlgg2PhJ",
        "outputId": "09b26fe8-0653-46f6-e76b-ef954275ee7d"
      },
      "outputs": [],
      "source": [
        "df2 = test.drop(['Internal volume', 'Surface area'], axis=1) #correlation heatmap\n",
        "plt.figure(figsize=(10, 6))\n",
        "sns.heatmap(df2.corr(), annot=True, cmap='coolwarm')\n",
        "plt.title(\"Correlation Matrix for Old Radiators\")\n",
        "plt.show()"
      ]
    },
    {
      "cell_type": "code",
      "execution_count": null,
      "id": "U2VNIQrA2Ry2",
      "metadata": {
        "colab": {
          "base_uri": "https://localhost:8080/",
          "height": 1000
        },
        "id": "U2VNIQrA2Ry2",
        "outputId": "cab02c36-1931-442c-f20d-1d241215bd7f"
      },
      "outputs": [],
      "source": [
        "# Boxplot for 'Interaxis Distance' and 'Output ΔT50'\n",
        "colList1 = ['Interaxis distance', 'Output ΔT50']\n",
        "plt.figure(figsize=(6, 6))\n",
        "sns.boxplot(data=test[colList1], palette='coolwarm')\n",
        "plt.title('Boxplots of Interaxis Distance, Output ΔT50 in Old Radiators')\n",
        "plt.xlabel('Columns')\n",
        "plt.ylabel('Value')\n",
        "plt.xticks(rotation=45)\n",
        "plt.show()\n",
        "\n",
        "# Boxplot for all other numeric columns excluding 'Interaxis Distance' and 'Output ΔT50'\n",
        "plt.figure(figsize=(12, 8))\n",
        "numericCols = test.select_dtypes(include=['number'])  # Select only numeric columns\n",
        "toDrop = colList1\n",
        "numericCols.drop(columns=toDrop).boxplot()\n",
        "plt.suptitle(\"Boxplots of Other Numeric Columns in Old Radiators\")\n",
        "plt.xticks(rotation=45)\n",
        "plt.tight_layout()\n",
        "plt.show()"
      ]
    },
    {
      "cell_type": "code",
      "execution_count": null,
      "id": "WB1J8Bmv2opK",
      "metadata": {
        "colab": {
          "base_uri": "https://localhost:8080/",
          "height": 1000
        },
        "id": "WB1J8Bmv2opK",
        "outputId": "dbff6d14-8734-41db-d35d-e7e1f4650084"
      },
      "outputs": [],
      "source": [
        "# pairplot\n",
        "sns.pairplot(numericCols)\n",
        "plt.suptitle('Pair Plots for All Numeric Columns in Test DataFrame', y=1.02)\n",
        "plt.show()\n"
      ]
    },
    {
      "cell_type": "code",
      "execution_count": null,
      "id": "_KKF0aYl2ccz",
      "metadata": {
        "colab": {
          "base_uri": "https://localhost:8080/",
          "height": 1000
        },
        "id": "_KKF0aYl2ccz",
        "outputId": "4129248c-a3dd-4f57-c488-6ed919841a82"
      },
      "outputs": [],
      "source": [
        "numPlots = len(numericCols.columns)\n",
        "cols = 3\n",
        "rows=np.ceil(numPlots / cols)   # calculating number of rows needed\n",
        "rows = int(rows)\n",
        "\n",
        "fig, axes = plt.subplots(rows, cols, figsize=(15, 5 * rows))\n",
        "axes = axes.flatten()\n",
        "\n",
        "#histogram for each numeric column\n",
        "for i, col in enumerate(numericCols.columns):\n",
        "    axes[i].hist(numericCols[col], bins=20)\n",
        "    sns.kdeplot(numericCols[col], ax=axes[i], color='red', linewidth=2)\n",
        "    axes[i].set_title(f'Histogram and KDE of {col}')\n",
        "    axes[i].set_xlabel(col)\n",
        "    axes[i].set_ylabel('Frequency')\n",
        "\n",
        "# hiding any unused subplots for better visualisation\n",
        "for j in range(i + 1, len(axes)):\n",
        "    axes[j].axis('off')\n",
        "\n",
        "plt.tight_layout()\n",
        "plt.suptitle('Histograms for Numeric Columns in Old Radiators', y=1.02)\n",
        "plt.show()"
      ]
    },
    {
      "cell_type": "code",
      "execution_count": null,
      "id": "6197e2ee-5790-49f4-bf23-2f295fd6cc45",
      "metadata": {
        "colab": {
          "base_uri": "https://localhost:8080/",
          "height": 1000
        },
        "id": "6197e2ee-5790-49f4-bf23-2f295fd6cc45",
        "outputId": "cbd94125-9260-4815-cf7c-c84f2fca83b3"
      },
      "outputs": [],
      "source": [
        "medianValues = numericCols.median()\n",
        "modeValues = numericCols.mode().iloc[0]  # we take first mode if there are multiple\n",
        "print(\"Median Values for Each Column:\")\n",
        "print(medianValues)\n",
        "print('\\n')\n",
        "print(\"Mode Values for Each Column:\")\n",
        "print(modeValues)\n",
        "\n",
        "meanValues = numericCols.mean()  #calculating means\n",
        "\n",
        "plt.figure(figsize=(10, 6))\n",
        "ax = meanValues.plot(kind='bar', color='skyblue')\n",
        "\n",
        "for patch in ax.patches: #value labels on top of each bar\n",
        "    height = patch.get_height()\n",
        "    width=patch.get_width()\n",
        "    ax.text(patch.get_x() + width/ 2, height + 0.05, f'{height:.2f}',\n",
        "            ha='center', va='bottom')\n",
        "plt.title('Mean of numeric columns in Old Radiators')\n",
        "plt.xlabel('Columns')\n",
        "plt.ylabel('Mean Value')\n",
        "plt.xticks(rotation=45)\n",
        "plt.tight_layout()\n",
        "plt.show()"
      ]
    },
    {
      "cell_type": "markdown",
      "id": "6deb41be",
      "metadata": {
        "id": "6deb41be"
      },
      "source": [
        "# Modeling"
      ]
    },
    {
      "cell_type": "code",
      "execution_count": 126,
      "id": "7dfafa40-eb98-428b-b61e-3fc4c199f98a",
      "metadata": {
        "id": "7dfafa40-eb98-428b-b61e-3fc4c199f98a"
      },
      "outputs": [],
      "source": [
        "from sklearn.model_selection import train_test_split, cross_val_score, KFold\n",
        "from sklearn.linear_model import RidgeCV\n",
        "from sklearn.preprocessing import StandardScaler\n",
        "from sklearn.metrics import mean_squared_error\n",
        "from sklearn.metrics import r2_score\n",
        "import numpy as np"
      ]
    },
    {
      "cell_type": "code",
      "execution_count": 127,
      "id": "8965f7e0-7632-4bf2-bb0a-1c316a34ad43",
      "metadata": {
        "id": "8965f7e0-7632-4bf2-bb0a-1c316a34ad43"
      },
      "outputs": [],
      "source": [
        "# defining features and targets using the complete set of features\n",
        "features = [\n",
        "    'Section length', 'Leg section depth', 'Mid section Depth',\n",
        "    'Leg section height', 'Mid section height',\n",
        "    'Leg section weight', 'Mid section weight',\n",
        "    'Internal volume', 'Interaxis distance',\n",
        "    'Nipple size', 'Surface area',\n",
        "]\n",
        "\n",
        "X = train[features]\n",
        "y_k = train['Factor Km']\n",
        "y_n = train['Exponent n']\n",
        "\n",
        "# train/test split (80/20)\n",
        "X_train, X_test, y_k_train, y_k_test = train_test_split(X, y_k, test_size=0.2, random_state=42)\n",
        "y_n_train, y_n_test = train_test_split(y_n, test_size=0.2, random_state=42)"
      ]
    },
    {
      "cell_type": "code",
      "execution_count": 128,
      "id": "4b076090-1f9e-4124-af3a-7f18911119d4",
      "metadata": {
        "id": "4b076090-1f9e-4124-af3a-7f18911119d4"
      },
      "outputs": [],
      "source": [
        "# scaling features\n",
        "scaler = StandardScaler()\n",
        "X_train_scaled = scaler.fit_transform(X_train)\n",
        "X_test_scaled = scaler.transform(X_test)"
      ]
    },
    {
      "cell_type": "code",
      "execution_count": 129,
      "id": "53fb03d2-fabb-4189-a1c0-0256fae42af2",
      "metadata": {
        "id": "53fb03d2-fabb-4189-a1c0-0256fae42af2"
      },
      "outputs": [],
      "source": [
        "# defining RidgeCV model\n",
        "alphas = np.logspace(-3, 3, 13)\n",
        "ridge_k = RidgeCV(alphas=alphas, cv=5)\n",
        "ridge_n = RidgeCV(alphas=alphas, cv=5)"
      ]
    },
    {
      "cell_type": "code",
      "execution_count": null,
      "id": "8a3a2f6a-96be-4181-b6b1-718e62a22454",
      "metadata": {
        "colab": {
          "base_uri": "https://localhost:8080/"
        },
        "id": "8a3a2f6a-96be-4181-b6b1-718e62a22454",
        "outputId": "06595240-1683-438c-babe-8779340704d2"
      },
      "outputs": [],
      "source": [
        "# 5-fold cross-validation on training set\n",
        "cv = KFold(n_splits=5, shuffle=True, random_state=42)\n",
        "\n",
        "ridge_scores_k = cross_val_score(ridge_k, X_train_scaled, y_k_train, cv=cv, scoring='neg_mean_squared_error')\n",
        "ridge_scores_n = cross_val_score(ridge_n, X_train_scaled, y_n_train, cv=cv, scoring='neg_mean_squared_error')\n",
        "\n",
        "ridge_cv_mse_k = -np.mean(ridge_scores_k)\n",
        "ridge_cv_mse_n = -np.mean(ridge_scores_n)\n",
        "\n",
        "print(f\"[Ridge] Cross-Validation MSE (Factor Km): {ridge_cv_mse_k:.6f}\")\n",
        "print(f\"[Ridge] Cross-Validation MSE (Exponent n): {ridge_cv_mse_n:.6f}\")\n"
      ]
    },
    {
      "cell_type": "code",
      "execution_count": null,
      "id": "0fd4608c-b14a-4b3b-a1d3-23ad1a076860",
      "metadata": {
        "colab": {
          "base_uri": "https://localhost:8080/",
          "height": 150
        },
        "id": "0fd4608c-b14a-4b3b-a1d3-23ad1a076860",
        "outputId": "02be7f2e-bac4-485f-b4de-99f1585e5d77"
      },
      "outputs": [],
      "source": [
        "# fitting Ridge model on training set\n",
        "ridge_k.fit(X_train_scaled, y_k_train)\n",
        "ridge_n.fit(X_train_scaled, y_n_train)"
      ]
    },
    {
      "cell_type": "code",
      "execution_count": 132,
      "id": "1c992372-e10c-4af8-a023-ba9fe08fc64a",
      "metadata": {
        "id": "1c992372-e10c-4af8-a023-ba9fe08fc64a"
      },
      "outputs": [],
      "source": [
        "# predict on test set\n",
        "y_k_pred_ridge = ridge_k.predict(X_test_scaled)\n",
        "y_n_pred_ridge = ridge_n.predict(X_test_scaled)"
      ]
    },
    {
      "cell_type": "code",
      "execution_count": null,
      "id": "b47f5ca4-faba-4357-b119-576374b099a5",
      "metadata": {
        "colab": {
          "base_uri": "https://localhost:8080/"
        },
        "id": "b47f5ca4-faba-4357-b119-576374b099a5",
        "outputId": "b9e99dde-524a-48c1-d557-72d9cbe82b80"
      },
      "outputs": [],
      "source": [
        "# evaluating test set performance\n",
        "ridge_mse_k = mean_squared_error(y_k_test, y_k_pred_ridge)\n",
        "ridge_mse_n = mean_squared_error(y_n_test, y_n_pred_ridge)\n",
        "\n",
        "ridge_r2_k = r2_score(y_k_test, y_k_pred_ridge)\n",
        "ridge_r2_n = r2_score(y_n_test, y_n_pred_ridge)\n",
        "\n",
        "print(f\"[Ridge] Test MSE (Factor Km): {ridge_mse_k:.6f}\")\n",
        "print(f\"[Ridge] Test MSE (Exponent n): {ridge_mse_n:.6f}\")\n",
        "print(f\"[Ridge] R² Score (Factor Km): {ridge_r2_k:.4f}\")\n",
        "print(f\"[Ridge] R² Score (Exponent n): {ridge_r2_n:.4f}\")"
      ]
    },
    {
      "cell_type": "code",
      "execution_count": 134,
      "id": "e8679d02-e626-4d78-9be1-5a3ba384eb77",
      "metadata": {
        "id": "e8679d02-e626-4d78-9be1-5a3ba384eb77"
      },
      "outputs": [],
      "source": [
        "from sklearn.ensemble import RandomForestRegressor"
      ]
    },
    {
      "cell_type": "code",
      "execution_count": 135,
      "id": "f004480b-07d2-448d-827c-67a79fad72ac",
      "metadata": {
        "id": "f004480b-07d2-448d-827c-67a79fad72ac"
      },
      "outputs": [],
      "source": [
        "# defining models\n",
        "rf_k = RandomForestRegressor(n_estimators=100, random_state=42)\n",
        "rf_n = RandomForestRegressor(n_estimators=100, random_state=42)"
      ]
    },
    {
      "cell_type": "code",
      "execution_count": null,
      "id": "025cec0a-8573-4753-b59b-0f9c6f544a89",
      "metadata": {
        "colab": {
          "base_uri": "https://localhost:8080/"
        },
        "id": "025cec0a-8573-4753-b59b-0f9c6f544a89",
        "outputId": "099e836c-ae3e-4774-bf4a-ccf812d8bd08"
      },
      "outputs": [],
      "source": [
        "# 5-fold cross-validation\n",
        "rf_scores_k = cross_val_score(rf_k, X_train, y_k_train, cv=cv, scoring='neg_mean_squared_error')\n",
        "rf_scores_n = cross_val_score(rf_n, X_train, y_n_train, cv=cv, scoring='neg_mean_squared_error')\n",
        "\n",
        "rf_cv_mse_k = -np.mean(rf_scores_k)\n",
        "rf_cv_mse_n = -np.mean(rf_scores_n)\n",
        "\n",
        "print(f\"[Random Forest] Cross-Validation MSE (Factor Km): {rf_cv_mse_k:.6f}\")\n",
        "print(f\"[Random Forest] Cross-Validation MSE (Exponent n): {rf_cv_mse_n:.6f}\")\n"
      ]
    },
    {
      "cell_type": "code",
      "execution_count": null,
      "id": "42c8c0b9-7b57-464a-98b9-43e32a0a9da5",
      "metadata": {
        "colab": {
          "base_uri": "https://localhost:8080/",
          "height": 80
        },
        "id": "42c8c0b9-7b57-464a-98b9-43e32a0a9da5",
        "outputId": "d7bbb59c-ef59-4105-8773-2448006684a2"
      },
      "outputs": [],
      "source": [
        "# fitting models on training set\n",
        "rf_k.fit(X_train, y_k_train)\n",
        "rf_n.fit(X_train, y_n_train)"
      ]
    },
    {
      "cell_type": "code",
      "execution_count": null,
      "id": "58c4672d-4675-47b9-ad87-b6fa408fa858",
      "metadata": {
        "colab": {
          "base_uri": "https://localhost:8080/"
        },
        "id": "58c4672d-4675-47b9-ad87-b6fa408fa858",
        "outputId": "5202bbb1-b8f0-46a9-c9ab-649329a8e079"
      },
      "outputs": [],
      "source": [
        "# predicting on test set\n",
        "y_k_pred_rf = rf_k.predict(X_test)\n",
        "y_n_pred_rf = rf_n.predict(X_test)\n",
        "\n",
        "# evaluating on test set\n",
        "rf_mse_k = mean_squared_error(y_k_test, y_k_pred_rf)\n",
        "rf_mse_n = mean_squared_error(y_n_test, y_n_pred_rf)\n",
        "\n",
        "rf_r2_k = r2_score(y_k_test, y_k_pred_rf)\n",
        "rf_r2_n = r2_score(y_n_test, y_n_pred_rf)\n",
        "\n",
        "print(f\"[Random Forest] Test MSE (Factor Km): {rf_mse_k:.6f}\")\n",
        "print(f\"[Random Forest] Test MSE (Exponent n): {rf_mse_n:.6f}\")\n",
        "print(f\"[Random Forest] R² Score (Factor Km): {rf_r2_k:.4f}\")\n",
        "print(f\"[Random Forest] R² Score (Exponent n): {rf_r2_n:.4f}\")"
      ]
    },
    {
      "cell_type": "code",
      "execution_count": null,
      "id": "d472bef4-b64b-459b-80ab-894f7ab92237",
      "metadata": {
        "colab": {
          "base_uri": "https://localhost:8080/",
          "height": 997
        },
        "id": "d472bef4-b64b-459b-80ab-894f7ab92237",
        "outputId": "04d7649a-c034-4aa1-92e8-d5b52036e1f5"
      },
      "outputs": [],
      "source": [
        "import matplotlib.pyplot as plt\n",
        "\n",
        "# feature importance\n",
        "feature_names = X_train.columns\n",
        "\n",
        "def plot_feature_importance_colored(importances, title):\n",
        "    indices = np.argsort(importances)[::-1]\n",
        "    sorted_names = feature_names[indices]\n",
        "    sorted_importances = importances[indices]\n",
        "\n",
        "    colors = plt.cm.viridis(np.linspace(0.2, 0.9, len(sorted_importances)))\n",
        "\n",
        "    plt.figure(figsize=(10, 5))\n",
        "    plt.barh(sorted_names, sorted_importances, color=colors)\n",
        "    plt.xlabel('Importance')\n",
        "    plt.title(title)\n",
        "    plt.gca().invert_yaxis()\n",
        "    plt.tight_layout()\n",
        "    plt.show()\n",
        "\n",
        "# plot for Factor Km and Exponent n\n",
        "plot_feature_importance_colored(rf_k.feature_importances_, ' Random Forest Feature Importance — Factor Km')\n",
        "plot_feature_importance_colored(rf_n.feature_importances_, ' Random Forest Feature Importance — Exponent n')"
      ]
    },
    {
      "cell_type": "code",
      "execution_count": 140,
      "id": "adf26af8-5ec3-406b-8105-ace046639c20",
      "metadata": {
        "id": "adf26af8-5ec3-406b-8105-ace046639c20"
      },
      "outputs": [],
      "source": [
        "from sklearn.ensemble import GradientBoostingRegressor"
      ]
    },
    {
      "cell_type": "code",
      "execution_count": null,
      "id": "d3b3cd2e-6bfb-4db4-a96d-c1852c31801f",
      "metadata": {
        "colab": {
          "base_uri": "https://localhost:8080/"
        },
        "id": "d3b3cd2e-6bfb-4db4-a96d-c1852c31801f",
        "outputId": "15d33c7c-a8b8-4719-df87-5b522295998b"
      },
      "outputs": [],
      "source": [
        "# defining models\n",
        "gb_k = GradientBoostingRegressor(n_estimators=100, random_state=42)\n",
        "gb_n = GradientBoostingRegressor(n_estimators=100, random_state=42)\n",
        "\n",
        "# cross-validation (5-fold)\n",
        "gb_scores_k = cross_val_score(gb_k, X_train, y_k_train, cv=cv, scoring='neg_mean_squared_error')\n",
        "gb_scores_n = cross_val_score(gb_n, X_train, y_n_train, cv=cv, scoring='neg_mean_squared_error')\n",
        "\n",
        "gb_cv_mse_k = -np.mean(gb_scores_k)\n",
        "gb_cv_mse_n = -np.mean(gb_scores_n)\n",
        "\n",
        "print(f\"[Gradient Boosting] Cross-Validation MSE (Factor Km): {gb_cv_mse_k:.6f}\")\n",
        "print(f\"[Gradient Boosting] Cross-Validation MSE (Exponent n): {gb_cv_mse_n:.6f}\")"
      ]
    },
    {
      "cell_type": "code",
      "execution_count": null,
      "id": "33f3b6da-531b-45cb-a9d2-94adf3e7e9ff",
      "metadata": {
        "colab": {
          "base_uri": "https://localhost:8080/",
          "height": 80
        },
        "id": "33f3b6da-531b-45cb-a9d2-94adf3e7e9ff",
        "outputId": "e8f13e53-5a85-43ff-881a-b20a88ec1054"
      },
      "outputs": [],
      "source": [
        "# fitting models\n",
        "gb_k.fit(X_train, y_k_train)\n",
        "gb_n.fit(X_train, y_n_train)\n"
      ]
    },
    {
      "cell_type": "code",
      "execution_count": null,
      "id": "36d31513-d835-4186-ab5f-2f32efc61a16",
      "metadata": {
        "colab": {
          "base_uri": "https://localhost:8080/"
        },
        "id": "36d31513-d835-4186-ab5f-2f32efc61a16",
        "outputId": "1f463b8f-3d74-4e29-ce0b-febe5904203f"
      },
      "outputs": [],
      "source": [
        "# predicting on test set\n",
        "y_k_pred_gb = gb_k.predict(X_test)\n",
        "y_n_pred_gb = gb_n.predict(X_test)\n",
        "\n",
        "# evaluating the test performance\n",
        "gb_mse_k = mean_squared_error(y_k_test, y_k_pred_gb)\n",
        "gb_mse_n = mean_squared_error(y_n_test, y_n_pred_gb)\n",
        "\n",
        "gb_r2_k = r2_score(y_k_test, y_k_pred_gb)\n",
        "gb_r2_n = r2_score(y_n_test, y_n_pred_gb)\n",
        "\n",
        "print(f\"[Gradient Boosting] Test MSE (Factor Km): {gb_mse_k:.6f}\")\n",
        "print(f\"[Gradient Boosting] Test MSE (Exponent n): {gb_mse_n:.6f}\")\n",
        "print(f\"[Gradient Boosting] R² Score (Factor Km): {gb_r2_k:.4f}\")\n",
        "print(f\"[Gradient Boosting] R² Score (Exponent n): {gb_r2_n:.4f}\")"
      ]
    },
    {
      "cell_type": "code",
      "execution_count": null,
      "id": "61b36168-8c2d-4645-b219-4e3387ddfdc8",
      "metadata": {
        "colab": {
          "base_uri": "https://localhost:8080/",
          "height": 997
        },
        "id": "61b36168-8c2d-4645-b219-4e3387ddfdc8",
        "outputId": "8db1e74b-1f2a-4cb9-e1d1-bfafeefa4c1f"
      },
      "outputs": [],
      "source": [
        "# feature importance gbr\n",
        "feature_names = X_train.columns\n",
        "\n",
        "def plot_feature_importance_colored(importances, title):\n",
        "    indices = np.argsort(importances)[::-1]\n",
        "    sorted_names = feature_names[indices]\n",
        "    sorted_importances = importances[indices]\n",
        "    colors = plt.cm.plasma(np.linspace(0.2, 0.9, len(sorted_importances)))\n",
        "\n",
        "    plt.figure(figsize=(10, 5))\n",
        "    plt.barh(sorted_names, sorted_importances, color=colors)\n",
        "    plt.xlabel('Importance')\n",
        "    plt.title(title)\n",
        "    plt.gca().invert_yaxis()\n",
        "    plt.tight_layout()\n",
        "    plt.show()\n",
        "\n",
        "# Plot importances\n",
        "plot_feature_importance_colored(gb_k.feature_importances_, ' Gradient Boosting Feature Importance — Factor Km')\n",
        "plot_feature_importance_colored(gb_n.feature_importances_, ' Gradient Boosting Feature Importance — Exponent n')"
      ]
    },
    {
      "cell_type": "markdown",
      "id": "02d19d0f",
      "metadata": {},
      "source": []
    },
    {
      "cell_type": "code",
      "execution_count": null,
      "id": "8d1c8d07-58a5-40e7-90dc-74795f6c9e01",
      "metadata": {
        "colab": {
          "base_uri": "https://localhost:8080/"
        },
        "id": "8d1c8d07-58a5-40e7-90dc-74795f6c9e01",
        "outputId": "af90c052-1373-423d-d6d6-c94a9c6d1880"
      },
      "outputs": [],
      "source": [
        "pip install xgboost"
      ]
    },
    {
      "cell_type": "code",
      "execution_count": 146,
      "id": "d6e6eef1-e6bb-4ee1-91d4-a0125f30d19d",
      "metadata": {
        "id": "d6e6eef1-e6bb-4ee1-91d4-a0125f30d19d"
      },
      "outputs": [],
      "source": [
        "from xgboost import XGBRegressor"
      ]
    },
    {
      "cell_type": "code",
      "execution_count": null,
      "id": "2e15d829-6c97-4ea5-959a-f156392b6809",
      "metadata": {
        "colab": {
          "base_uri": "https://localhost:8080/"
        },
        "id": "2e15d829-6c97-4ea5-959a-f156392b6809",
        "outputId": "a3f9f6c3-3b39-45af-b246-21d04cbace23"
      },
      "outputs": [],
      "source": [
        "# defining models for k and n\n",
        "xgb_k = XGBRegressor(n_estimators=100, learning_rate=0.1, max_depth=3, random_state=42)\n",
        "xgb_n = XGBRegressor(n_estimators=100, learning_rate=0.1, max_depth=3, random_state=42)\n",
        "\n",
        "# cross-validation (5-fold)\n",
        "xgb_scores_k = cross_val_score(xgb_k, X_train, y_k_train, cv=cv, scoring='neg_mean_squared_error')\n",
        "xgb_scores_n = cross_val_score(xgb_n, X_train, y_n_train, cv=cv, scoring='neg_mean_squared_error')\n",
        "\n",
        "xgb_cv_mse_k = -np.mean(xgb_scores_k)\n",
        "xgb_cv_mse_n = -np.mean(xgb_scores_n)\n",
        "\n",
        "print(f\"[XGBoost] Cross-Validation MSE (Factor Km): {xgb_cv_mse_k:.6f}\")\n",
        "print(f\"[XGBoost] Cross-Validation MSE (Exponent n): {xgb_cv_mse_n:.6f}\")"
      ]
    },
    {
      "cell_type": "code",
      "execution_count": null,
      "id": "16ff989b-df67-48ef-b76f-59e0bc757b59",
      "metadata": {
        "colab": {
          "base_uri": "https://localhost:8080/",
          "height": 254
        },
        "id": "16ff989b-df67-48ef-b76f-59e0bc757b59",
        "outputId": "4e475ccb-4738-406b-e90e-17d59b83c461"
      },
      "outputs": [],
      "source": [
        "# fitting models\n",
        "xgb_k.fit(X_train, y_k_train)\n",
        "xgb_n.fit(X_train, y_n_train)"
      ]
    },
    {
      "cell_type": "code",
      "execution_count": null,
      "id": "ce507003-80a1-45e6-85a4-d4ed252355f9",
      "metadata": {
        "colab": {
          "base_uri": "https://localhost:8080/"
        },
        "id": "ce507003-80a1-45e6-85a4-d4ed252355f9",
        "outputId": "85413179-5f6c-4d10-af34-457d17f92b31"
      },
      "outputs": [],
      "source": [
        "# predicting on test set\n",
        "y_k_pred_xgb = xgb_k.predict(X_test)\n",
        "y_n_pred_xgb = xgb_n.predict(X_test)\n",
        "\n",
        "# evaluating on test set\n",
        "xgb_mse_k = mean_squared_error(y_k_test, y_k_pred_xgb)\n",
        "xgb_mse_n = mean_squared_error(y_n_test, y_n_pred_xgb)\n",
        "\n",
        "xgb_r2_k = r2_score(y_k_test, y_k_pred_xgb)\n",
        "xgb_r2_n = r2_score(y_n_test, y_n_pred_xgb)\n",
        "\n",
        "print(f\"[XGBoost] Test MSE (Factor Km): {xgb_mse_k:.6f}\")\n",
        "print(f\"[XGBoost] Test MSE (Exponent n): {xgb_mse_n:.6f}\")\n",
        "print(f\"[XGBoost] R² Score (Factor Km): {xgb_r2_k:.4f}\")\n",
        "print(f\"[XGBoost] R² Score (Exponent n): {xgb_r2_n:.4f}\")\n"
      ]
    },
    {
      "cell_type": "code",
      "execution_count": null,
      "id": "2e2dc63c-fcff-4279-bf25-11b54b48aa89",
      "metadata": {
        "colab": {
          "base_uri": "https://localhost:8080/",
          "height": 997
        },
        "id": "2e2dc63c-fcff-4279-bf25-11b54b48aa89",
        "outputId": "ea663cf5-d386-47a1-d51e-c14a2864cc69"
      },
      "outputs": [],
      "source": [
        "# feature importance plot\n",
        "feature_names = X_train.columns\n",
        "\n",
        "def plot_feature_importance_colored(importances, title):\n",
        "    indices = np.argsort(importances)[::-1]\n",
        "    sorted_names = feature_names[indices]\n",
        "    sorted_importances = importances[indices]\n",
        "    colors = plt.cm.cividis(np.linspace(0.2, 0.9, len(sorted_importances)))\n",
        "\n",
        "    plt.figure(figsize=(10, 5))\n",
        "    plt.barh(sorted_names, sorted_importances, color=colors)\n",
        "    plt.xlabel('Importance')\n",
        "    plt.title(title)\n",
        "    plt.gca().invert_yaxis()\n",
        "    plt.tight_layout()\n",
        "    plt.show()\n",
        "\n",
        "plot_feature_importance_colored(xgb_k.feature_importances_, ' XGBoost Feature Importance — Factor Km')\n",
        "plot_feature_importance_colored(xgb_n.feature_importances_, ' XGBoost Feature Importance — Exponent n')"
      ]
    },
    {
      "cell_type": "code",
      "execution_count": 151,
      "id": "b52c8075-013a-4279-9078-c6df64ce8b5e",
      "metadata": {
        "id": "b52c8075-013a-4279-9078-c6df64ce8b5e"
      },
      "outputs": [],
      "source": [
        "model_names = ['Ridge', 'Random Forest', 'Gradient Boosting', 'XGBoost']\n",
        "\n",
        "mse_k_values = [ridge_mse_k, rf_mse_k, gb_mse_k, xgb_mse_k]\n",
        "mse_n_values = [ridge_mse_n, rf_mse_n, gb_mse_n, xgb_mse_n]\n",
        "\n",
        "r2_k_values = [ridge_r2_k, rf_r2_k, gb_r2_k, xgb_r2_k]\n",
        "r2_n_values = [ridge_r2_n, rf_r2_n, gb_r2_n, xgb_r2_n]\n"
      ]
    },
    {
      "cell_type": "code",
      "execution_count": null,
      "id": "03c63588-72bc-4e0e-b863-a9323c40f49a",
      "metadata": {
        "colab": {
          "base_uri": "https://localhost:8080/",
          "height": 507
        },
        "id": "03c63588-72bc-4e0e-b863-a9323c40f49a",
        "outputId": "338dddef-591e-4be8-c684-ceff4693ea3b"
      },
      "outputs": [],
      "source": [
        "# line plot for MSE\n",
        "plt.figure(figsize=(10, 5))\n",
        "plt.plot(model_names, mse_k_values, marker='o', label='Factor Km (MSE)')\n",
        "plt.plot(model_names, mse_n_values, marker='s', label='Exponent n (MSE)')\n",
        "plt.title('Model Comparison — Mean Squared Error')\n",
        "plt.ylabel('MSE')\n",
        "plt.grid(True)\n",
        "plt.legend()\n",
        "plt.tight_layout()\n",
        "plt.show()\n",
        "\n"
      ]
    },
    {
      "cell_type": "code",
      "execution_count": null,
      "id": "ece823f5-867b-4aab-b733-840af0373e21",
      "metadata": {
        "colab": {
          "base_uri": "https://localhost:8080/",
          "height": 507
        },
        "id": "ece823f5-867b-4aab-b733-840af0373e21",
        "outputId": "735eeb17-d852-464c-ccbe-5121cd4ee08b"
      },
      "outputs": [],
      "source": [
        "# line plot for R²\n",
        "plt.figure(figsize=(10, 5))\n",
        "plt.plot(model_names, r2_k_values, marker='o', label='Factor Km (R²)')\n",
        "plt.plot(model_names, r2_n_values, marker='s', label='Exponent n (R²)')\n",
        "plt.title('Model Comparison — R² Score')\n",
        "plt.ylabel('R²')\n",
        "plt.grid(True)\n",
        "plt.legend()\n",
        "plt.tight_layout()\n",
        "plt.show()"
      ]
    },
    {
      "cell_type": "code",
      "execution_count": null,
      "id": "d6eee142-768f-4c3b-b2a5-7eb5ca6c792d",
      "metadata": {
        "colab": {
          "base_uri": "https://localhost:8080/"
        },
        "id": "d6eee142-768f-4c3b-b2a5-7eb5ca6c792d",
        "outputId": "55dcc923-92d1-4493-fb6e-7d245722a5c4"
      },
      "outputs": [],
      "source": [
        "import pandas as pd\n",
        "\n",
        "# combining into a dataframe\n",
        "comparison_df = pd.DataFrame({\n",
        "    'Model': model_names,\n",
        "    'MSE (Factor Km)': mse_k_values,\n",
        "    'MSE (Exponent n)': mse_n_values,\n",
        "    'R² (Factor Km)': r2_k_values,\n",
        "    'R² (Exponent n)': r2_n_values\n",
        "})\n",
        "comparison_df = comparison_df.round(5)\n",
        "\n",
        "# display the table\n",
        "print(comparison_df)\n"
      ]
    },
    {
      "cell_type": "code",
      "execution_count": null,
      "id": "e8a17b7a-3b50-4c08-a99d-645232580f39",
      "metadata": {
        "colab": {
          "base_uri": "https://localhost:8080/",
          "height": 997
        },
        "id": "e8a17b7a-3b50-4c08-a99d-645232580f39",
        "outputId": "a650d1e8-d2e2-4ca3-af29-be2407634da1"
      },
      "outputs": [],
      "source": [
        "bar_width = 0.35\n",
        "x = np.arange(len(model_names))\n",
        "\n",
        "# plotting MSE for Factor Km vs Exponent n\n",
        "plt.figure(figsize=(8, 5))\n",
        "plt.bar(x - bar_width/2, mse_k_values, width=bar_width, label='Factor Km (MSE)', color='#4c72b0')\n",
        "plt.bar(x + bar_width/2, mse_n_values, width=bar_width, label='Exponent n (MSE)', color='#dd8452')\n",
        "\n",
        "plt.xticks(x, model_names)\n",
        "plt.ylabel(\"MSE\")\n",
        "plt.title(\"Model Comparison — MSE\")\n",
        "plt.legend()\n",
        "plt.grid(axis='y', linestyle=':', alpha=0.5)\n",
        "plt.tight_layout()\n",
        "plt.show()\n",
        "\n",
        "# plotting R² for Factor Km vs Exponent n\n",
        "plt.figure(figsize=(8, 5))\n",
        "plt.bar(x - bar_width/2, r2_k_values, width=bar_width, label='Factor Km (R²)', color='#55a868')\n",
        "plt.bar(x + bar_width/2, r2_n_values, width=bar_width, label='Exponent n (R²)', color='#c44e52')\n",
        "\n",
        "plt.xticks(x, model_names)\n",
        "plt.ylabel(\"R² Score\")\n",
        "plt.title(\"Model Comparison — R²\")\n",
        "plt.legend()\n",
        "plt.grid(axis='y', linestyle=':', alpha=0.5)\n",
        "plt.tight_layout()\n",
        "plt.show()\n"
      ]
    },
    {
      "cell_type": "code",
      "execution_count": null,
      "id": "05ecabfc-e6ff-4421-ae58-49e27fd437af",
      "metadata": {
        "colab": {
          "base_uri": "https://localhost:8080/"
        },
        "id": "05ecabfc-e6ff-4421-ae58-49e27fd437af",
        "outputId": "1e2e2807-7433-4f46-fc3a-bcae17516b86"
      },
      "outputs": [],
      "source": [
        "print(f\"Train set size: {len(X_train)} rows\")\n",
        "print(f\"Test set size: {len(X_test)} rows\")"
      ]
    },
    {
      "cell_type": "code",
      "execution_count": null,
      "id": "27ffed38-f697-450c-81a5-b7ad3ef866a0",
      "metadata": {
        "colab": {
          "base_uri": "https://localhost:8080/",
          "height": 1000
        },
        "id": "27ffed38-f697-450c-81a5-b7ad3ef866a0",
        "outputId": "72ad2efd-1917-4150-f4ed-68f4642fdd4c"
      },
      "outputs": [],
      "source": [
        "def plot_predicted_vs_actual(y_true, y_pred, label):\n",
        "    plt.figure(figsize=(6.5, 6.5))\n",
        "\n",
        "\n",
        "    plt.scatter(\n",
        "        y_true, y_pred,\n",
        "        color=\"#4c72b0\",\n",
        "        edgecolor='white',\n",
        "        linewidth=0.6,\n",
        "        alpha=0.85,\n",
        "        s=65\n",
        "    )\n",
        "\n",
        "\n",
        "    min_val = min(y_true.min(), y_pred.min())\n",
        "    max_val = max(y_true.max(), y_pred.max())\n",
        "    plt.plot([min_val, max_val], [min_val, max_val], linestyle='--', color='red', linewidth=1)\n",
        "    plt.xlabel(\"Actual\", fontsize=12)\n",
        "    plt.ylabel(\"Predicted\", fontsize=12)\n",
        "    plt.title(f\"{label}\\nPredicted vs Actual\", fontsize=13)\n",
        "    plt.grid(True, linestyle=':', linewidth=0.6, alpha=0.5)\n",
        "    plt.gca().set_facecolor(\"#f9f9f9\")\n",
        "    plt.tight_layout()\n",
        "    plt.show()\n",
        "\n",
        "# Plot for Factor Km\n",
        "plot_predicted_vs_actual(y_k_test, y_k_pred_rf, \"Random Forest — Factor Km\")\n",
        "\n",
        "# Plot for Exponent n\n",
        "plot_predicted_vs_actual(y_n_test, y_n_pred_rf, \"Random Forest — Exponent n\")\n"
      ]
    },
    {
      "cell_type": "code",
      "execution_count": null,
      "id": "4a9779c5-1891-42b0-9678-44652263c463",
      "metadata": {
        "colab": {
          "base_uri": "https://localhost:8080/",
          "height": 1000
        },
        "id": "4a9779c5-1891-42b0-9678-44652263c463",
        "outputId": "b72eb161-89d4-4d2f-ab12-9e7e46c93998"
      },
      "outputs": [],
      "source": [
        "from sklearn.linear_model import Ridge\n",
        "from sklearn.ensemble import RandomForestRegressor, GradientBoostingRegressor\n",
        "from xgboost import XGBRegressor\n",
        "from sklearn.model_selection import train_test_split, cross_val_score, KFold\n",
        "from sklearn.preprocessing import StandardScaler\n",
        "from sklearn.metrics import mean_squared_error, r2_score\n",
        "import matplotlib.pyplot as plt\n",
        "import numpy as np\n",
        "\n",
        "train_combined = train.copy()\n",
        "\n",
        "train_combined['Average depth'] = (train_combined['Leg section depth'] + train_combined['Mid section Depth']) / 2\n",
        "train_combined['Average height'] = (train_combined['Leg section height'] + train_combined['Mid section height']) / 2\n",
        "train_combined['Average weight'] = (train_combined['Leg section weight'] + train_combined['Mid section weight']) / 2\n",
        "\n",
        "columns_to_drop = [\n",
        "    'Leg section depth', 'Mid section Depth',\n",
        "    'Leg section height', 'Mid section height',\n",
        "    'Leg section weight', 'Mid section weight'\n",
        "]\n",
        "train_combined = train_combined.drop(columns=columns_to_drop)\n",
        "\n",
        "features_combined = [\n",
        "    'Section length', 'Internal volume', 'Interaxis distance',\n",
        "    'Nipple size', 'Surface area',\n",
        "    'Average depth', 'Average height', 'Average weight'\n",
        "]\n",
        "\n",
        "X = train_combined[features_combined]\n",
        "y_k = train_combined['Factor Km']\n",
        "y_n = train_combined['Exponent n']\n",
        "\n",
        "X_train, X_test, y_k_train, y_k_test = train_test_split(X, y_k, test_size=0.2, random_state=42)\n",
        "_, _, y_n_train, y_n_test = train_test_split(X, y_n, test_size=0.2, random_state=42)\n",
        "\n",
        "scaler = StandardScaler()\n",
        "X_train_scaled = scaler.fit_transform(X_train)\n",
        "X_test_scaled = scaler.transform(X_test)\n",
        "\n",
        "\n",
        "models = {\n",
        "    'Ridge': Ridge(alpha=1.0, random_state=42),\n",
        "    'Random Forest': RandomForestRegressor(n_estimators=500, random_state=42),\n",
        "    'Gradient Boosting': GradientBoostingRegressor(n_estimators=500, learning_rate=0.1, max_depth=5, random_state=42),\n",
        "    'XGBoost': XGBRegressor(n_estimators=500, learning_rate=0.1, max_depth=5, random_state=42)\n",
        "}\n",
        "\n",
        "def print_cv_and_test_metrics(model, X_train, y_train, X_test, y_test, label, model_name):\n",
        "    cv = KFold(n_splits=5, shuffle=True, random_state=42)\n",
        "    cv_mse_scores = cross_val_score(model, X_train, y_train, cv=cv, scoring='neg_mean_squared_error')\n",
        "    cv_mse_mean = -np.mean(cv_mse_scores)\n",
        "\n",
        "    model.fit(X_train, y_train)\n",
        "    y_pred = model.predict(X_test)\n",
        "    test_mse = mean_squared_error(y_test, y_pred)\n",
        "    test_r2 = r2_score(y_test, y_pred)\n",
        "\n",
        "    print(f\"\\n{model_name} — {label}:\")\n",
        "    print(f\"  5-Fold CV MSE:  {cv_mse_mean:.6f}\")\n",
        "    print(f\"  Test MSE:       {test_mse:.6f}\")\n",
        "    print(f\"  Test R²:        {test_r2:.4f}\")\n",
        "\n",
        "for model_name, model in models.items():\n",
        "    if model_name == 'Ridge':\n",
        "        # Use scaled data\n",
        "        print_cv_and_test_metrics(model, X_train_scaled, y_k_train, X_test_scaled, y_k_test, 'Factor Km', model_name)\n",
        "        print_cv_and_test_metrics(model, X_train_scaled, y_n_train, X_test_scaled, y_n_test, 'Exponent n', model_name)\n",
        "    else:\n",
        "        # Use unscaled data\n",
        "        print_cv_and_test_metrics(model, X_train, y_k_train, X_test, y_k_test, 'Factor Km', model_name)\n",
        "        print_cv_and_test_metrics(model, X_train, y_n_train, X_test, y_n_test, 'Exponent n', model_name)\n",
        "\n",
        "# Define feature importance plot function\n",
        "def plot_feature_importance_colored(importances, feature_names, title):\n",
        "    indices = np.argsort(importances)[::-1]\n",
        "    sorted_names = feature_names[indices]\n",
        "    sorted_importances = importances[indices]\n",
        "    colors = plt.cm.cividis(np.linspace(0.2, 0.9, len(sorted_importances)))\n",
        "\n",
        "    plt.figure(figsize=(10, 5))\n",
        "    plt.barh(sorted_names, sorted_importances, color=colors, edgecolor='black', alpha=0.9)\n",
        "    plt.xlabel('Importance')\n",
        "    plt.title(title)\n",
        "    plt.gca().invert_yaxis()\n",
        "    plt.tight_layout()\n",
        "    plt.show()\n",
        "\n",
        "rf_model_k = RandomForestRegressor(n_estimators=500, random_state=42)\n",
        "rf_model_k.fit(X_train, y_k_train)\n",
        "plot_feature_importance_colored(rf_model_k.feature_importances_, X_train.columns, 'Random Forest Feature Importance — Factor Km')\n",
        "\n",
        "rf_model_n = RandomForestRegressor(n_estimators=500, random_state=42)\n",
        "rf_model_n.fit(X_train, y_n_train)\n",
        "plot_feature_importance_colored(rf_model_n.feature_importances_, X_train.columns, 'Random Forest Feature Importance — Exponent n')"
      ]
    },
    {
      "cell_type": "markdown",
      "id": "48ebbdc2",
      "metadata": {
        "id": "48ebbdc2"
      },
      "source": [
        "# Hyperparameter Tuning"
      ]
    },
    {
      "cell_type": "code",
      "execution_count": 159,
      "id": "262e310e",
      "metadata": {
        "id": "262e310e"
      },
      "outputs": [],
      "source": [
        "import numpy as np\n",
        "import pandas as pd\n",
        "from scipy.stats import randint, loguniform, uniform\n",
        "from sklearn.pipeline import Pipeline\n",
        "from sklearn.preprocessing import StandardScaler\n",
        "from sklearn.model_selection import KFold, RandomizedSearchCV\n",
        "from sklearn.metrics import mean_squared_error, r2_score\n",
        "from sklearn.linear_model import Ridge\n",
        "from sklearn.ensemble import RandomForestRegressor, GradientBoostingRegressor\n",
        "from xgboost import XGBRegressor\n",
        "import warnings, pprint\n",
        "\n",
        "warnings.filterwarnings(\"ignore\", category=UserWarning)"
      ]
    },
    {
      "cell_type": "code",
      "execution_count": 160,
      "id": "7ed78190",
      "metadata": {
        "id": "7ed78190"
      },
      "outputs": [],
      "source": [
        "# Reproducibility\n",
        "np.random.seed(42)"
      ]
    },
    {
      "cell_type": "code",
      "execution_count": 161,
      "id": "f6b33a87",
      "metadata": {
        "id": "f6b33a87"
      },
      "outputs": [],
      "source": [
        "# Cross‑validation\n",
        "cv = KFold(n_splits=5, shuffle=True, random_state=42)\n",
        "scoring = {\n",
        "    \"rmse\": \"neg_root_mean_squared_error\",\n",
        "    \"r2\": \"r2\"\n",
        "}"
      ]
    },
    {
      "cell_type": "code",
      "execution_count": 162,
      "id": "jG9mpJga5ceP",
      "metadata": {
        "colab": {
          "base_uri": "https://localhost:8080/"
        },
        "id": "jG9mpJga5ceP",
        "outputId": "618dc752-7dd2-451e-f3b9-aed0362ff838"
      },
      "outputs": [
        {
          "name": "stdout",
          "output_type": "stream",
          "text": [
            "Requirement already satisfied: scikit-learn in /usr/local/lib/python3.11/dist-packages (1.6.1)\n",
            "Requirement already satisfied: numpy>=1.19.5 in /usr/local/lib/python3.11/dist-packages (from scikit-learn) (2.0.2)\n",
            "Requirement already satisfied: scipy>=1.6.0 in /usr/local/lib/python3.11/dist-packages (from scikit-learn) (1.15.2)\n",
            "Requirement already satisfied: joblib>=1.2.0 in /usr/local/lib/python3.11/dist-packages (from scikit-learn) (1.4.2)\n",
            "Requirement already satisfied: threadpoolctl>=3.1.0 in /usr/local/lib/python3.11/dist-packages (from scikit-learn) (3.6.0)\n"
          ]
        }
      ],
      "source": [
        "!pip install -U scikit-learn\n"
      ]
    },
    {
      "cell_type": "code",
      "execution_count": null,
      "id": "9815e4c9",
      "metadata": {
        "colab": {
          "base_uri": "https://localhost:8080/"
        },
        "id": "9815e4c9",
        "outputId": "90028c63-d230-4800-f144-3a1095ebd9f1"
      },
      "outputs": [],
      "source": [
        "# Pipeline\n",
        "ridge_pipe = Pipeline([\n",
        "    (\"scaler\", StandardScaler()),\n",
        "    (\"model\",  Ridge(random_state=42))\n",
        "])\n",
        "\n",
        "param_dist_ridge = {\n",
        "    \"model__alpha\":        loguniform(1, 100000),\n",
        "    \"model__fit_intercept\": [True, False],\n",
        "    \"model__solver\":      [\"auto\", \"svd\", \"cholesky\", \"lsqr\", \"sag\", \"saga\"],\n",
        "}\n",
        "\n",
        "# Factor Km\n",
        "ridge_k = RandomizedSearchCV(\n",
        "    estimator          = ridge_pipe,\n",
        "    param_distributions= param_dist_ridge,\n",
        "    n_iter             = 400,\n",
        "    cv                 = cv,\n",
        "    scoring            = scoring,\n",
        "    refit              = \"rmse\",\n",
        "    n_jobs             = -1,\n",
        "    random_state       = 42,\n",
        "    verbose            = 1\n",
        ")\n",
        "ridge_k.fit(X_train, y_k_train)\n",
        "\n",
        "# Exponent n\n",
        "ridge_n = RandomizedSearchCV(\n",
        "    estimator          = ridge_pipe,\n",
        "    param_distributions= param_dist_ridge,\n",
        "    n_iter             = 400,\n",
        "    cv                 = cv,\n",
        "    scoring            = scoring,\n",
        "    refit              = \"rmse\",\n",
        "    n_jobs             = -1,\n",
        "    random_state       = 42,\n",
        "    verbose            = 1\n",
        ")\n",
        "ridge_n.fit(X_train, y_n_train)\n",
        "\n",
        "# evaluate on hold-out set\n",
        "def evaluate(label, model, X, y):\n",
        "    pred  = model.predict(X)\n",
        "    # rmse  = mean_squared_error(y, pred, squared=False)\n",
        "    rmse = np.sqrt(mean_squared_error(y, pred))\n",
        "    r2    = r2_score(y, pred)\n",
        "    print(f\"{label:<10} |  Test RMSE: {rmse:.5f}  |  R²: {r2:.4f}\")\n",
        "\n",
        "print(\"\\nRidge Results:\")\n",
        "evaluate(\"Factor Km\", ridge_k, X_test, y_k_test)\n",
        "evaluate(\"Exponent n\", ridge_n, X_test, y_n_test)\n",
        "\n",
        "print(\"\\nBest hyper-parameters:\")\n",
        "print(\"Factor Km :\")\n",
        "pprint.pprint(ridge_k.best_params_, indent=4, width=120)\n",
        "print(\"\\nExponent n:\")\n",
        "pprint.pprint(ridge_n.best_params_, indent=4, width=120)\n"
      ]
    },
    {
      "cell_type": "code",
      "execution_count": null,
      "id": "d0f456cd",
      "metadata": {
        "colab": {
          "base_uri": "https://localhost:8080/"
        },
        "id": "d0f456cd",
        "outputId": "bcaf375f-640f-44a1-edcf-5773ffc7317d"
      },
      "outputs": [],
      "source": [
        "rf_pipe = Pipeline([(\"model\", RandomForestRegressor(random_state=42, n_jobs=-1))])\n",
        "rf_space = {\n",
        "    \"model__n_estimators\": randint(200, 1000),\n",
        "    \"model__max_depth\": randint(3, 31),\n",
        "    \"model__min_samples_split\": randint(2, 11),\n",
        "    \"model__min_samples_leaf\": randint(1, 11),\n",
        "    \"model__max_features\": [\"sqrt\", \"log2\", None, 0.6, 0.8],\n",
        "    \"model__bootstrap\": [True, False],\n",
        "}\n",
        "\n",
        "def rf_search(X_tr, y_tr, random_state):\n",
        "    return RandomizedSearchCV(\n",
        "        rf_pipe, rf_space, n_iter=200, cv=cv,\n",
        "        scoring=scoring, refit=\"rmse\",\n",
        "        n_jobs=-1, random_state=random_state, verbose=1\n",
        "    ).fit(X_tr, y_tr)\n",
        "\n",
        "rf_k = rf_search(X_train, y_k_train, 42)\n",
        "rf_n = rf_search(X_train, y_n_train, 42)\n",
        "\n",
        "def eval_and_print(name, model, X_te, y_te):\n",
        "    # rmse = mean_squared_error(y_te, model.predict(X_te), squared=False)\n",
        "    rmse = np.sqrt(mean_squared_error(y_te, model.predict(X_te)))\n",
        "    r2   = r2_score(y_te, model.predict(X_te))\n",
        "    print(f\"{name:<15} | test RMSE: {rmse:.5f} | R²: {r2:.4f}\")\n",
        "\n",
        "print(\"\\nRandom Forest:\")\n",
        "eval_and_print(\"Factor Km\", rf_k, X_test, y_k_test)\n",
        "eval_and_print(\"Exponent n\", rf_n, X_test, y_n_test)\n",
        "\n",
        "print(\"\\nRandom Forest best params — Km:\")\n",
        "pprint.pprint(rf_k.best_params_)\n",
        "print(\"\\nRandom Forest best params — n:\")\n",
        "pprint.pprint(rf_n.best_params_)\n"
      ]
    },
    {
      "cell_type": "code",
      "execution_count": null,
      "id": "c6faaf6e",
      "metadata": {
        "colab": {
          "base_uri": "https://localhost:8080/"
        },
        "id": "c6faaf6e",
        "outputId": "4052425a-4c36-49cc-91e4-ff193383be36"
      },
      "outputs": [],
      "source": [
        "gb_pipe = Pipeline([(\"model\", GradientBoostingRegressor(random_state=42))])\n",
        "gb_space = {\n",
        "    \"model__n_estimators\": randint(50, 501),\n",
        "    \"model__learning_rate\": loguniform(1e-3, 0.5),\n",
        "    \"model__max_depth\": randint(2, 9),\n",
        "    \"model__subsample\": uniform(0.5, 0.5),  # 0.5‑1.0\n",
        "    \"model__min_samples_split\": randint(2, 11),\n",
        "    \"model__min_samples_leaf\": randint(1, 11),\n",
        "}\n",
        "\n",
        "def gb_search(X_tr, y_tr, random_state):\n",
        "    return RandomizedSearchCV(\n",
        "        gb_pipe, gb_space, n_iter=100, cv=cv,\n",
        "        scoring=scoring, refit=\"rmse\",\n",
        "        n_jobs=-1, random_state=random_state, verbose=1\n",
        "    ).fit(X_tr, y_tr)\n",
        "\n",
        "gb_k = gb_search(X_train, y_k_train, 42)\n",
        "gb_n = gb_search(X_train, y_n_train, 42)\n",
        "\n",
        "print(\"\\nGradient Boosting\")\n",
        "eval_and_print(\"Factor Km\", gb_k, X_test, y_k_test)\n",
        "eval_and_print(\"Exponent n\", gb_n, X_test, y_n_test)\n",
        "\n",
        "print(\"\\nGradient Boosting best params — Km:\")\n",
        "pprint.pprint(gb_k.best_params_)\n",
        "print(\"\\nGradient Boosting best params — n:\")\n",
        "pprint.pprint(gb_n.best_params_)"
      ]
    },
    {
      "cell_type": "code",
      "execution_count": null,
      "id": "f733f9aa",
      "metadata": {
        "colab": {
          "base_uri": "https://localhost:8080/"
        },
        "id": "f733f9aa",
        "outputId": "df8a136b-8807-45bc-f210-1a00686cc5aa"
      },
      "outputs": [],
      "source": [
        "from xgboost import XGBRegressor\n",
        "\n",
        "xgb_pipe = Pipeline([\n",
        "    (\"model\", XGBRegressor(\n",
        "        objective=\"reg:squarederror\",\n",
        "        random_state=42,\n",
        "        n_jobs=-1,\n",
        "        tree_method=\"hist\"\n",
        "    ))\n",
        "])\n",
        "\n",
        "xgb_space = {\n",
        "    \"model__n_estimators\": randint(50, 701),\n",
        "    \"model__learning_rate\": loguniform(1e-3, 1.0),\n",
        "    \"model__max_depth\": randint(2, 11),\n",
        "    \"model__subsample\": uniform(0.5, 0.5),\n",
        "    \"model__colsample_bytree\": uniform(0.5, 0.5),\n",
        "    \"model__gamma\": [0, 0.1, 0.2, 0.5, 1],\n",
        "    \"model__reg_lambda\": loguniform(1e-3, 100),\n",
        "    \"model__reg_alpha\":  loguniform(1e-3, 10),\n",
        "}\n",
        "\n",
        "def xgb_search(X_tr, y_tr, random_state):\n",
        "    return RandomizedSearchCV(\n",
        "        xgb_pipe, xgb_space, n_iter=400, cv=cv,\n",
        "        scoring=scoring, refit=\"rmse\",\n",
        "        n_jobs=-1, random_state=random_state, verbose=1\n",
        "    ).fit(X_tr, y_tr)\n",
        "\n",
        "xgb_k = xgb_search(X_train, y_k_train, 42)\n",
        "xgb_n = xgb_search(X_train, y_n_train, 42)\n",
        "\n",
        "print(\"\\nXGBoost\")\n",
        "eval_and_print(\"Factor Km\", xgb_k, X_test, y_k_test)\n",
        "eval_and_print(\"Exponent n\", xgb_n, X_test, y_n_test)\n",
        "\n",
        "print(\"\\nXGBoost best params — Km:\")\n",
        "pprint.pprint(xgb_k.best_params_)\n",
        "print(\"\\nXGBoost best params — n:\")\n",
        "pprint.pprint(xgb_n.best_params_)"
      ]
    },
    {
      "cell_type": "code",
      "execution_count": null,
      "id": "1756062b-d6a5-41e6-befb-cbb0e4380a77",
      "metadata": {
        "colab": {
          "base_uri": "https://localhost:8080/"
        },
        "id": "1756062b-d6a5-41e6-befb-cbb0e4380a77",
        "outputId": "307d8ef2-a901-45f3-a3c9-d0682fc0aa4d"
      },
      "outputs": [],
      "source": [
        "print(test)"
      ]
    },
    {
      "cell_type": "code",
      "execution_count": null,
      "id": "abb3618a-8988-4ce0-b5ba-634b70d2c90b",
      "metadata": {
        "colab": {
          "base_uri": "https://localhost:8080/"
        },
        "id": "abb3618a-8988-4ce0-b5ba-634b70d2c90b",
        "outputId": "1ff012e6-8583-411c-84cf-6924b649c6df"
      },
      "outputs": [],
      "source": [
        "import pandas as pd\n",
        "from sklearn.ensemble import RandomForestRegressor\n",
        "\n",
        "# Defining features and targets\n",
        "features = [\n",
        "    'Section length', 'Leg section depth', 'Mid section Depth',\n",
        "    'Leg section height', 'Mid section height',\n",
        "    'Leg section weight', 'Mid section weight',\n",
        "    'Internal volume', 'Interaxis distance',\n",
        "    'Nipple size', 'Surface area'\n",
        "]\n",
        "\n",
        "X = train[features]\n",
        "y_k = train['Factor Km']\n",
        "y_n = train['Exponent n']\n",
        "\n",
        "# Making sure test data has matching columns\n",
        "X_test_features = test[features]\n",
        "\n",
        "# Best hyperparameters from tuning\n",
        "best_params_k = {\n",
        "    'bootstrap': True,\n",
        "    'max_depth': 16,\n",
        "    'max_features': 'sqrt',\n",
        "    'min_samples_leaf': 1,\n",
        "    'min_samples_split': 4,\n",
        "    'n_estimators': 884,\n",
        "    'random_state': 42\n",
        "}\n",
        "\n",
        "best_params_n = {\n",
        "    'bootstrap': False,\n",
        "    'max_depth': 9,\n",
        "    'max_features': 'sqrt',\n",
        "    'min_samples_leaf': 1,\n",
        "    'min_samples_split': 8,\n",
        "    'n_estimators': 285,\n",
        "    'random_state': 42\n",
        "}\n",
        "\n",
        "# Training final models on all data\n",
        "final_rf_k = RandomForestRegressor(**best_params_k)\n",
        "final_rf_n = RandomForestRegressor(**best_params_n)\n",
        "\n",
        "final_rf_k.fit(X, y_k)\n",
        "final_rf_n.fit(X, y_n)\n",
        "\n",
        "print(\"Final Random Forest models trained on full dataset!\")"
      ]
    },
    {
      "cell_type": "code",
      "execution_count": 174,
      "id": "c25ef190-538a-48db-abee-858b88244d33",
      "metadata": {
        "id": "c25ef190-538a-48db-abee-858b88244d33"
      },
      "outputs": [],
      "source": [
        "# Predicting on test dataset\n",
        "y_k_test_pred = final_rf_k.predict(X_test_features)\n",
        "y_n_test_pred = final_rf_n.predict(X_test_features)\n",
        "\n",
        "# Adding predictions to test dataframe\n",
        "test['Predicted Factor Km'] = y_k_test_pred\n",
        "test['Predicted Exponent n'] = y_n_test_pred\n",
        "\n",
        "# Saving predictions to Excel\n",
        "output_path = '/Your_path/test_predictions.xlsx'\n",
        "test.to_excel(output_path, index=False)\n",
        "\n",
        "print(f\"Predictions saved to: {output_path}\")"
      ]
    },
    {
      "cell_type": "code",
      "execution_count": null,
      "id": "b42a2c44-fa51-40a5-9114-bc05f602b9d5",
      "metadata": {
        "colab": {
          "base_uri": "https://localhost:8080/",
          "height": 1000
        },
        "id": "b42a2c44-fa51-40a5-9114-bc05f602b9d5",
        "outputId": "eb668588-777f-4cc7-9811-80d1811a1d84"
      },
      "outputs": [],
      "source": [
        "# Getting feature importance for Factor Km model\n",
        "importance_k = pd.Series(final_rf_k.feature_importances_, index=features).sort_values(ascending=False)\n",
        "importance_n = pd.Series(final_rf_n.feature_importances_, index=features).sort_values(ascending=False)\n",
        "\n",
        "print(\"\\nFeature Importance (Factor Km):\")\n",
        "print(importance_k)\n",
        "\n",
        "print(\"\\nFeature Importance (Exponent n):\")\n",
        "print(importance_n)\n",
        "\n",
        "# Plotting feature importance\n",
        "def plot_feature_importance(importances, title):\n",
        "    plt.figure(figsize=(8, 5))\n",
        "    importances.plot(kind='barh', color='#4c72b0')\n",
        "    plt.xlabel('Importance Score')\n",
        "    plt.title(title)\n",
        "    plt.gca().invert_yaxis()\n",
        "    plt.tight_layout()\n",
        "    plt.show()\n",
        "\n",
        "plot_feature_importance(importance_k, 'Feature Importance — Factor Km')\n",
        "plot_feature_importance(importance_n, 'Feature Importance — Exponent n')\n"
      ]
    },
    {
      "cell_type": "code",
      "execution_count": null,
      "id": "437d5fd4-2188-4a1b-ab9d-53b885923fb5",
      "metadata": {
        "colab": {
          "base_uri": "https://localhost:8080/",
          "height": 997
        },
        "id": "437d5fd4-2188-4a1b-ab9d-53b885923fb5",
        "outputId": "3a6f41fe-8281-4955-af89-31016f692f32"
      },
      "outputs": [],
      "source": [
        "feature_names = X.columns\n",
        "\n",
        "def plot_feature_importance_colored_viridis(importances, feature_names, title):\n",
        "    indices = np.argsort(importances)[::-1]\n",
        "    sorted_names = feature_names[indices]\n",
        "    sorted_importances = importances[indices]\n",
        "    colors = plt.cm.viridis(np.linspace(0.2, 0.9, len(sorted_importances)))\n",
        "\n",
        "    plt.figure(figsize=(10, 5))\n",
        "    plt.barh(sorted_names, sorted_importances, color=colors, edgecolor='black', alpha=0.9)\n",
        "    plt.xlabel('Importance', fontsize=12)\n",
        "    plt.title(title, fontsize=14, pad=10)\n",
        "    plt.gca().invert_yaxis()\n",
        "    plt.grid(axis='x', linestyle=':', alpha=0.5)\n",
        "    plt.tight_layout()\n",
        "    plt.show()\n",
        "\n",
        "# Plot for Factor Km\n",
        "plot_feature_importance_colored_viridis(final_rf_k.feature_importances_, feature_names, 'Random Forest Feature Importance — Factor Km')\n",
        "\n",
        "# Plot for Exponent n\n",
        "plot_feature_importance_colored_viridis(final_rf_n.feature_importances_, feature_names, 'Random Forest Feature Importance — Exponent n')\n"
      ]
    },
    {
      "cell_type": "code",
      "execution_count": null,
      "id": "ee7411e8-0fb3-4b56-b51b-d5d5ba386718",
      "metadata": {
        "colab": {
          "base_uri": "https://localhost:8080/"
        },
        "id": "ee7411e8-0fb3-4b56-b51b-d5d5ba386718",
        "outputId": "72cc0c0a-39c7-4649-b490-bae82c61a1d4"
      },
      "outputs": [],
      "source": [
        "# Calculate mean of predicted Factor Km and Exponent n\n",
        "mean_k = test['Predicted Factor Km'].mean()\n",
        "mean_n = test['Predicted Exponent n'].mean()\n",
        "\n",
        "print(f\"Mean Predicted Factor Km: {mean_k:.4f}\")\n",
        "print(f\"Mean Predicted Exponent n: {mean_n:.4f}\")"
      ]
    },
    {
      "cell_type": "code",
      "execution_count": null,
      "id": "8da15e31-6496-4bf7-8066-6646d3d16ac5",
      "metadata": {
        "colab": {
          "base_uri": "https://localhost:8080/"
        },
        "id": "8da15e31-6496-4bf7-8066-6646d3d16ac5",
        "outputId": "690426ed-3d03-425f-e8de-0a9eb9200173"
      },
      "outputs": [],
      "source": [
        "# Get descriptive statistics for predictions\n",
        "stats = test[['Predicted Factor Km', 'Predicted Exponent n']].describe()\n",
        "\n",
        "print(stats)"
      ]
    },
    {
      "cell_type": "code",
      "execution_count": null,
      "id": "f8a8765a-d586-4949-88ee-172c72ef6591",
      "metadata": {
        "id": "f8a8765a-d586-4949-88ee-172c72ef6591"
      },
      "outputs": [],
      "source": []
    }
  ],
  "metadata": {
    "colab": {
      "provenance": []
    },
    "kernelspec": {
      "display_name": "Python 3 (ipykernel)",
      "language": "python",
      "name": "python3"
    },
    "language_info": {
      "codemirror_mode": {
        "name": "ipython",
        "version": 3
      },
      "file_extension": ".py",
      "mimetype": "text/x-python",
      "name": "python",
      "nbconvert_exporter": "python",
      "pygments_lexer": "ipython3",
      "version": "3.12.4"
    }
  },
  "nbformat": 4,
  "nbformat_minor": 5
}
